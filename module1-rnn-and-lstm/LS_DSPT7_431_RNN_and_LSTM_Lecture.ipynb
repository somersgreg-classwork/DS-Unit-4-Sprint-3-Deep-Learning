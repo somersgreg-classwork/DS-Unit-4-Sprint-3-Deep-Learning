{
  "cells": [
    {
      "cell_type": "markdown",
      "metadata": {
        "id": "Ldr0HZ193GKb"
      },
      "source": [
        "Lambda School Data Science\n",
        "\n",
        "*Unit 4, Sprint 3, Module 1*\n",
        "\n",
        "---\n"
      ]
    },
    {
      "cell_type": "markdown",
      "metadata": {
        "id": "qlEUBsRGPpv_"
      },
      "source": [
        "# Recurrent Neural Networks (RNNs) and Long Short Term Memory (LSTM) (Prepare)\n",
        "\n",
        "<img src=\"https://media.giphy.com/media/l2JJu8U8SoHhQEnoQ/giphy.gif\" width=480 height=356>\n",
        "<br></br>\n",
        "<br></br>"
      ]
    },
    {
      "cell_type": "markdown",
      "metadata": {
        "id": "egOQuoi2Ppv_"
      },
      "source": [
        "## Learning Objectives\n",
        "- <a href=\"#p1\">Part 1: </a>Describe Neural Networks used for modeling sequences\n",
        "- <a href=\"#p2\">Part 2: </a>Apply a LSTM to a text generation problem using Keras"
      ]
    },
    {
      "cell_type": "markdown",
      "metadata": {
        "id": "_IizNKWLomoA"
      },
      "source": [
        "## Overview\n",
        "\n",
        "> \"Yesterday's just a memory - tomorrow is never what it's supposed to be.\" -- Bob Dylan\n",
        "\n",
        "Wish you could save [Time In A Bottle](https://www.youtube.com/watch?v=AnWWj6xOleY)? With statistics you can do the next best thing - understand how data varies over time (or any sequential order), and use the order/time dimension predictively.\n",
        "\n",
        "A sequence is just any enumerated collection - order counts, and repetition is allowed. Python lists are a good elemental example - `[1, 2, 2, -1]` is a valid list, and is different from `[1, 2, -1, 2]`. The data structures we tend to use (e.g. NumPy arrays) are often built on this fundamental structure.\n",
        "\n",
        "A time series is data where you have not just the order but some actual continuous marker for where they lie \"in time\" - this could be a date, a timestamp, [Unix time](https://en.wikipedia.org/wiki/Unix_time), or something else. All time series are also sequences, and for some techniques you may just consider their order and not \"how far apart\" the entries are (if you have particularly consistent data collected at regular intervals it may not matter)."
      ]
    },
    {
      "cell_type": "markdown",
      "metadata": {
        "id": "44QZgrPUe3-Y"
      },
      "source": [
        "# Neural Networks for Sequences (Learn)"
      ]
    },
    {
      "cell_type": "markdown",
      "metadata": {
        "id": "JAAyS95APpv_"
      },
      "source": [
        "## Overview\n",
        "\n",
        "There's plenty more to \"traditional\" time series, but the latest and greatest technique for sequence data is recurrent neural networks. A recurrence relation in math is an equation that uses recursion to define a sequence - a famous example is the Fibonacci numbers:\n",
        "\n",
        "$F_n = F_{n-1} + F_{n-2}$\n",
        "\n",
        "For formal math you also need a base case $F_0=1, F_1=1$, and then the rest builds from there. But for neural networks what we're really talking about are loops:\n",
        "\n",
        "![Recurrent neural network](https://upload.wikimedia.org/wikipedia/commons/b/b5/Recurrent_neural_network_unfold.svg)\n",
        "\n",
        "The hidden layers have edges (output) going back to their own input - this loop means that for any time `t` the training is at least partly based on the output from time `t-1`. The entire network is being represented on the left, and you can unfold the network explicitly to see how it behaves at any given `t`.\n",
        "\n",
        "Different units can have this \"loop\", but a particularly successful one is the long short-term memory unit (LSTM):\n",
        "\n",
        "![Long short-term memory unit](https://upload.wikimedia.org/wikipedia/commons/thumb/6/63/Long_Short-Term_Memory.svg/1024px-Long_Short-Term_Memory.svg.png)\n",
        "\n",
        "There's a lot going on here - in a nutshell, the calculus still works out and backpropagation can still be implemented. The advantage (ane namesake) of LSTM is that it can generally put more weight on recent (short-term) events while not completely losing older (long-term) information.\n",
        "\n",
        "After enough iterations, a typical neural network will start calculating prior gradients that are so small they effectively become zero - this is the [vanishing gradient problem](https://en.wikipedia.org/wiki/Vanishing_gradient_problem), and is what RNN with LSTM addresses. Pay special attention to the $c_t$ parameters and how they pass through the unit to get an intuition for how this problem is solved.\n",
        "\n",
        "So why are these cool? One particularly compelling application is actually not time series but language modeling - language is inherently ordered data (letters/words go one after another, and the order *matters*). [The Unreasonable Effectiveness of Recurrent Neural Networks](https://karpathy.github.io/2015/05/21/rnn-effectiveness/) is a famous and worth reading blog post on this topic.\n",
        "\n",
        "For our purposes, let's use TensorFlow and Keras to train RNNs with natural language. Resources:\n",
        "\n",
        "- https://github.com/keras-team/keras/blob/master/examples/imdb_lstm.py\n",
        "- https://keras.io/layers/recurrent/#lstm\n",
        "- http://adventuresinmachinelearning.com/keras-lstm-tutorial/\n",
        "\n",
        "Note that `tensorflow.contrib` [also has an implementation of RNN/LSTM](https://www.tensorflow.org/tutorials/sequences/recurrent)."
      ]
    },
    {
      "cell_type": "markdown",
      "metadata": {
        "id": "eWrQllf8WEd-"
      },
      "source": [
        "## Follow Along\n",
        "\n",
        "Sequences come in many shapes and forms from stock prices to text. We'll focus on text, because modeling text as a sequence is a strength of Neural Networks. Let's start with a simple classification task using a TensorFlow tutorial. "
      ]
    },
    {
      "cell_type": "markdown",
      "metadata": {
        "id": "Hd76W7dfPpv_"
      },
      "source": [
        "### RNN/LSTM Sentiment Classification with Keras"
      ]
    },
    {
      "cell_type": "code",
      "execution_count": 1,
      "metadata": {
        "colab": {
          "base_uri": "https://localhost:8080/"
        },
        "id": "Ti23G0gRe3kr",
        "outputId": "120951a6-a2cb-44b3-da4f-7f7e1d5be60c"
      },
      "outputs": [
        {
          "name": "stderr",
          "output_type": "stream",
          "text": [
            "2022-04-14 22:11:57.540604: W tensorflow/stream_executor/platform/default/dso_loader.cc:64] Could not load dynamic library 'libcudart.so.11.0'; dlerror: libcudart.so.11.0: cannot open shared object file: No such file or directory\n",
            "2022-04-14 22:11:57.540684: I tensorflow/stream_executor/cuda/cudart_stub.cc:29] Ignore above cudart dlerror if you do not have a GPU set up on your machine.\n"
          ]
        },
        {
          "name": "stdout",
          "output_type": "stream",
          "text": [
            "Loading data...\n",
            "25000 train sequences\n",
            "25000 test sequences\n"
          ]
        }
      ],
      "source": [
        "'''\n",
        "#Trains an LSTM model on the IMDB sentiment classification task.\n",
        "The dataset is actually too small for LSTM to be of any advantage\n",
        "compared to simpler, much faster methods such as TF-IDF + LogReg.\n",
        "**Notes**\n",
        "- RNNs are tricky. Choice of batch size is important,\n",
        "choice of loss and optimizer is critical, etc.\n",
        "Some configurations won't converge.\n",
        "- LSTM loss decrease patterns during training can be quite different\n",
        "from what you see with CNNs/MLPs/etc.\n",
        "'''\n",
        "from __future__ import print_function\n",
        "\n",
        "import warnings\n",
        "warnings.filterwarnings(\"ignore\", category=FutureWarning)\n",
        "\n",
        "import numpy as np\n",
        "from tensorflow.keras.preprocessing import sequence\n",
        "from tensorflow.keras.models import Sequential\n",
        "from tensorflow.keras.layers import Dense, Embedding, Dropout, SimpleRNN, LSTM\n",
        "from tensorflow.keras.datasets import imdb\n",
        "\n",
        "import matplotlib.pyplot as plt\n",
        "import seaborn as sns\n",
        "sns.set()\n",
        "\n",
        "# Set top N words and batch_size\n",
        "max_features = 20000\n",
        "batch_size = 32\n",
        "\n",
        "# Our vectorized labels\n",
        "y_train = np.asarray(y_train).astype('float32').reshape((-1,1))\n",
        "y_test = np.asarray(y_test).astype('float32').reshape((-1,1))\n",
        "print('Loading data...')\n",
        "(x_train, y_train), (x_test, y_test) = imdb.load_data(num_words=max_features)\n",
        "print(len(x_train), 'train sequences')\n",
        "print(len(x_test), 'test sequences')\n",
        "\n",
        "# Map for readable classnames\n",
        "class_names = [\"Negative\", \"Positive\"]"
      ]
    },
    {
      "cell_type": "markdown",
      "metadata": {
        "id": "QoFzcny8PpwA"
      },
      "source": [
        "Reviews in the IMDB dataset have been encoded as a sequence of integers. Luckily the dataset also contains an index for converting the reviews back into human readable form."
      ]
    },
    {
      "cell_type": "code",
      "execution_count": null,
      "metadata": {
        "colab": {
          "base_uri": "https://localhost:8080/"
        },
        "id": "hg4sSH7KhGRK",
        "outputId": "bdfc39e0-e9b5-4d5e-a3f1-9772493132ef"
      },
      "outputs": [
        {
          "data": {
            "text/plain": [
              "[1,\n",
              " 14,\n",
              " 22,\n",
              " 16,\n",
              " 43,\n",
              " 530,\n",
              " 973,\n",
              " 1622,\n",
              " 1385,\n",
              " 65,\n",
              " 458,\n",
              " 4468,\n",
              " 66,\n",
              " 3941,\n",
              " 4,\n",
              " 173,\n",
              " 36,\n",
              " 256,\n",
              " 5,\n",
              " 25,\n",
              " 100,\n",
              " 43,\n",
              " 838,\n",
              " 112,\n",
              " 50,\n",
              " 670,\n",
              " 2,\n",
              " 9,\n",
              " 35,\n",
              " 480,\n",
              " 284,\n",
              " 5,\n",
              " 150,\n",
              " 4,\n",
              " 172,\n",
              " 112,\n",
              " 167,\n",
              " 2,\n",
              " 336,\n",
              " 385,\n",
              " 39,\n",
              " 4,\n",
              " 172,\n",
              " 4536,\n",
              " 1111,\n",
              " 17,\n",
              " 546,\n",
              " 38,\n",
              " 13,\n",
              " 447,\n",
              " 4,\n",
              " 192,\n",
              " 50,\n",
              " 16,\n",
              " 6,\n",
              " 147,\n",
              " 2025,\n",
              " 19,\n",
              " 14,\n",
              " 22,\n",
              " 4,\n",
              " 1920,\n",
              " 4613,\n",
              " 469,\n",
              " 4,\n",
              " 22,\n",
              " 71,\n",
              " 87,\n",
              " 12,\n",
              " 16,\n",
              " 43,\n",
              " 530,\n",
              " 38,\n",
              " 76,\n",
              " 15,\n",
              " 13,\n",
              " 1247,\n",
              " 4,\n",
              " 22,\n",
              " 17,\n",
              " 515,\n",
              " 17,\n",
              " 12,\n",
              " 16,\n",
              " 626,\n",
              " 18,\n",
              " 19193,\n",
              " 5,\n",
              " 62,\n",
              " 386,\n",
              " 12,\n",
              " 8,\n",
              " 316,\n",
              " 8,\n",
              " 106,\n",
              " 5,\n",
              " 4,\n",
              " 2223,\n",
              " 5244,\n",
              " 16,\n",
              " 480,\n",
              " 66,\n",
              " 3785,\n",
              " 33,\n",
              " 4,\n",
              " 130,\n",
              " 12,\n",
              " 16,\n",
              " 38,\n",
              " 619,\n",
              " 5,\n",
              " 25,\n",
              " 124,\n",
              " 51,\n",
              " 36,\n",
              " 135,\n",
              " 48,\n",
              " 25,\n",
              " 1415,\n",
              " 33,\n",
              " 6,\n",
              " 22,\n",
              " 12,\n",
              " 215,\n",
              " 28,\n",
              " 77,\n",
              " 52,\n",
              " 5,\n",
              " 14,\n",
              " 407,\n",
              " 16,\n",
              " 82,\n",
              " 10311,\n",
              " 8,\n",
              " 4,\n",
              " 107,\n",
              " 117,\n",
              " 5952,\n",
              " 15,\n",
              " 256,\n",
              " 4,\n",
              " 2,\n",
              " 7,\n",
              " 3766,\n",
              " 5,\n",
              " 723,\n",
              " 36,\n",
              " 71,\n",
              " 43,\n",
              " 530,\n",
              " 476,\n",
              " 26,\n",
              " 400,\n",
              " 317,\n",
              " 46,\n",
              " 7,\n",
              " 4,\n",
              " 12118,\n",
              " 1029,\n",
              " 13,\n",
              " 104,\n",
              " 88,\n",
              " 4,\n",
              " 381,\n",
              " 15,\n",
              " 297,\n",
              " 98,\n",
              " 32,\n",
              " 2071,\n",
              " 56,\n",
              " 26,\n",
              " 141,\n",
              " 6,\n",
              " 194,\n",
              " 7486,\n",
              " 18,\n",
              " 4,\n",
              " 226,\n",
              " 22,\n",
              " 21,\n",
              " 134,\n",
              " 476,\n",
              " 26,\n",
              " 480,\n",
              " 5,\n",
              " 144,\n",
              " 30,\n",
              " 5535,\n",
              " 18,\n",
              " 51,\n",
              " 36,\n",
              " 28,\n",
              " 224,\n",
              " 92,\n",
              " 25,\n",
              " 104,\n",
              " 4,\n",
              " 226,\n",
              " 65,\n",
              " 16,\n",
              " 38,\n",
              " 1334,\n",
              " 88,\n",
              " 12,\n",
              " 16,\n",
              " 283,\n",
              " 5,\n",
              " 16,\n",
              " 4472,\n",
              " 113,\n",
              " 103,\n",
              " 32,\n",
              " 15,\n",
              " 16,\n",
              " 5345,\n",
              " 19,\n",
              " 178,\n",
              " 32]"
            ]
          },
          "execution_count": 2,
          "metadata": {
            "tags": []
          },
          "output_type": "execute_result"
        }
      ],
      "source": [
        "x_train[0]"
      ]
    },
    {
      "cell_type": "code",
      "execution_count": 2,
      "metadata": {
        "colab": {
          "base_uri": "https://localhost:8080/"
        },
        "id": "xoz81-WbPpwA",
        "outputId": "3809fe4a-855a-4c04-e40b-0de12390fb2b"
      },
      "outputs": [
        {
          "name": "stdout",
          "output_type": "stream",
          "text": [
            "Downloading data from https://storage.googleapis.com/tensorflow/tf-keras-datasets/imdb_word_index.json\n",
            "1646592/1641221 [==============================] - 1s 1us/step\n",
            "1654784/1641221 [==============================] - 1s 1us/step\n"
          ]
        }
      ],
      "source": [
        "# Get the word index from the dataset\n",
        "word_index = imdb.get_word_index()\n",
        "\n",
        "# Ensure that \"special\" words are mapped into human readable terms \n",
        "word_index = {k:(v+3) for k,v in word_index.items()}\n",
        "word_index[\"<PAD>\"] = 0\n",
        "word_index[\"<START>\"] = 1\n",
        "word_index[\"<UNKNOWN>\"] = 2\n",
        "\n",
        "# Perform reverse word lookup and make it callable\n",
        "reverse_word_index = dict([(value, key) for (key, value) in word_index.items()])\n",
        "def decode_review(text):\n",
        "    return ' '.join([reverse_word_index.get(i, '?') for i in text])"
      ]
    },
    {
      "cell_type": "code",
      "execution_count": 3,
      "metadata": {},
      "outputs": [
        {
          "data": {
            "text/plain": [
              "'spain'"
            ]
          },
          "execution_count": 3,
          "metadata": {},
          "output_type": "execute_result"
        }
      ],
      "source": [
        "reverse_word_index[5001]"
      ]
    },
    {
      "cell_type": "code",
      "execution_count": 4,
      "metadata": {
        "colab": {
          "base_uri": "https://localhost:8080/"
        },
        "id": "9bfBaKWyPpwA",
        "outputId": "9bb8a528-1098-4394-d877-e0815dbc45ca"
      },
      "outputs": [
        {
          "name": "stdout",
          "output_type": "stream",
          "text": [
            "Maximum review length: 2494\n",
            "Minimum review length: 7\n",
            "Mean review length: 234.75892\n",
            "\n",
            "Machine readable Review\n",
            "  Review Text: [1, 13, 1059, 14, 33, 6, 2181, 2824, 32, 13, 70, 135, 9, 51, 4, 609, 14, 20, 299, 46, 44, 17, 9287, 17, 4111, 2914, 886, 4, 229, 18, 6624, 45, 1162, 724, 231, 4, 3638, 227, 7, 281, 5, 60, 48, 25, 81, 563, 129, 1224, 11, 4, 519, 4, 22, 9, 131, 38, 1162, 15, 12, 218, 60, 163, 10, 10, 4, 114, 2290, 4660, 2243, 1230, 9771, 269, 8, 607, 6, 4660, 63, 1367, 6, 3732, 2, 4, 3732, 266, 103, 9771, 8, 79, 68, 2, 145, 9771, 2497, 98, 18, 2, 5, 732, 46, 8, 570, 98, 10, 10, 198, 44, 32, 4, 65, 50, 9, 4, 360, 9, 120, 4, 350, 2, 7, 2435, 1181, 2, 67, 2, 5, 2, 5, 2886, 4331, 206, 844, 33, 31, 213, 9771, 2, 6, 10926, 15977, 5, 3193, 1860, 19, 6, 3732, 1544, 23, 350, 7, 12, 422, 198, 208, 1230, 9771, 3193, 1860, 6, 232, 23, 350, 7, 35, 15977, 387, 15, 30, 129, 3619, 18, 14, 3931, 78, 22]\n",
            "  Review Sentiment: 0\n",
            "\n",
            "Human Readable Review\n",
            "  Review Text: <START> i caught this at a test screening all i can say is what the hell this movie plays out about as smoothly as mickey mouse reading the script for scarface it's bizarre beyond making the slightest bit of sense and even if you do leave your brain in the car the film is still so bizarre that it isn't even funny br br the plot involves crocodile hunter steve irwin trying to save a crocodile which contains a cia <UNKNOWN> the cia comes after irwin to get their <UNKNOWN> back irwin mistakes them for <UNKNOWN> and sets out to stop them br br that's about all the story there is the rest is over the top <UNKNOWN> of australian culture <UNKNOWN> see <UNKNOWN> and <UNKNOWN> and strangely choreographed action sequences at one point irwin <UNKNOWN> a speeding rv and knife fights with a cia agent on top of it yes that's right steve irwin knife fights a guy on top of an rv let that be your guide for this ridiculously bad film\n",
            "  Review Sentiment: Negative\n"
          ]
        }
      ],
      "source": [
        "# Concatonate test and training datasets\n",
        "allreviews = np.concatenate((x_train, x_test), axis=0)\n",
        "\n",
        "# Review lengths across test and training whole datasets\n",
        "print(\"Maximum review length: {}\".format(len(max((allreviews), key=len))))\n",
        "print(\"Minimum review length: {}\".format(len(min((allreviews), key=len))))\n",
        "result = [len(x) for x in allreviews]\n",
        "print(\"Mean review length: {}\".format(np.mean(result)))\n",
        "\n",
        "# Print a review and it's class as stored in the dataset. Replace the number\n",
        "# to select a different review.\n",
        "print(\"\")\n",
        "print(\"Machine readable Review\")\n",
        "print(\"  Review Text: \" + str(x_train[30]))\n",
        "print(\"  Review Sentiment: \" + str(y_train[30]))\n",
        "\n",
        "# Print a review and it's class in human readable format. Replace the number\n",
        "# to select a different review.\n",
        "print(\"\")\n",
        "print(\"Human Readable Review\")\n",
        "print(\"  Review Text: \" + decode_review(x_train[30]))\n",
        "print(\"  Review Sentiment: \" + class_names[y_train[30]])"
      ]
    },
    {
      "cell_type": "code",
      "execution_count": 5,
      "metadata": {
        "colab": {
          "base_uri": "https://localhost:8080/",
          "height": 394
        },
        "id": "7UbbrLIPPpwA",
        "outputId": "c85292e0-bbb0-44a9-f203-f16eb869df5c"
      },
      "outputs": [
        {
          "data": {
            "image/png": "[encoded data removed]",
            "text/plain": [
              "<Figure size 576x432 with 1 Axes>"
            ]
          },
          "metadata": {},
          "output_type": "display_data"
        }
      ],
      "source": [
        "# Get the lengths for positive and negative reviews\n",
        "all_labels = np.concatenate([y_train, y_test])\n",
        "positive = np.array(result)[all_labels==1]\n",
        "negative = np.array(result)[all_labels==0]\n",
        "\n",
        "plt.figure(figsize=(8,6))\n",
        "sns.distplot(positive, label='Positive Reviews', hist=False)\n",
        "sns.distplot(negative, label='Negative Reviews', hist=False)\n",
        "plt.title('Distribution of Positive and Negative Review Lengths', fontsize=14)\n",
        "plt.legend();"
      ]
    },
    {
      "cell_type": "code",
      "execution_count": 6,
      "metadata": {
        "colab": {
          "base_uri": "https://localhost:8080/"
        },
        "id": "ABY13yNuPpwA",
        "outputId": "5be04cdd-d554-47bb-d528-984b0e7e3698"
      },
      "outputs": [
        {
          "name": "stdout",
          "output_type": "stream",
          "text": [
            "Pad Sequences (samples x time)\n",
            "x_train shape:  (25000, 250)\n",
            "x_test shape:  (25000, 250)\n"
          ]
        }
      ],
      "source": [
        "# If you want to pad the end of the sequences you can set padding='post'.\n",
        "maxlen = 250\n",
        "\n",
        "print('Pad Sequences (samples x time)')\n",
        "x_train = sequence.pad_sequences(x_train, maxlen=maxlen)\n",
        "x_test = sequence.pad_sequences(x_test, maxlen=maxlen)\n",
        "print('x_train shape: ', x_train.shape)\n",
        "print('x_test shape: ', x_test.shape)"
      ]
    },
    {
      "cell_type": "code",
      "execution_count": 7,
      "metadata": {
        "colab": {
          "base_uri": "https://localhost:8080/"
        },
        "id": "0CSlUI9XPpwA",
        "outputId": "7b73e666-16dd-4c37-b75b-560b8f52b019"
      },
      "outputs": [
        {
          "data": {
            "text/plain": [
              "array([    0,     0,     0,     0,     0,     0,     0,     0,     0,\n",
              "           0,     0,     0,     0,     0,     0,     0,     0,     0,\n",
              "           0,     0,     0,     0,     0,     0,     0,     0,     0,\n",
              "           0,     0,     0,     0,     0,     0,     0,     0,     0,\n",
              "           0,     0,     0,     0,     0,     0,     0,     0,     0,\n",
              "           0,     0,     0,     0,     0,     0,     0,     0,     0,\n",
              "           0,     0,     0,     0,     0,     0,     0,     0,     0,\n",
              "           0,     0,     0,     0,     0,     0,     0,     0,     0,\n",
              "           0,     0,     0,     0,     0,     0,     0,     0,     0,\n",
              "           0,     0,     0,     0,     0,     0,     0,     0,     0,\n",
              "           0,     0,     0,     0,     0,     0,     0,     0,     0,\n",
              "           0,     0,     0,     0,     0,     0,     0,     0,     0,\n",
              "           0,     0,     0,     0,     0,     0,     0,     0,     0,\n",
              "           0,     0,     0,     0,     0,     0,     0,     0,     0,\n",
              "           0,     0,     0,     0,     0,     0,     0,     0,     0,\n",
              "           0,     0,     0,     0,     0,     0,     0,     0,     1,\n",
              "          13,   219,    14,    33,     4, 12180,    22,  1413,    12,\n",
              "          16,   373,   175,  2711,  1115,  1026,   430,   939,    16,\n",
              "          23,  2444,    25,    43,   697,    89,    12,    16,   170,\n",
              "           8,   130,   262,    19,    32,     4,   665,     7,     4,\n",
              "           2,   322,     5,     4,  1520,     7,     4,    86,   250,\n",
              "          10,    10,     4,   249,   173,    16,     4,  3891,     6,\n",
              "          19,     4,   167,   564,     5,   564,  1325,    36,   805,\n",
              "           8,   216,   638,    17, 11076,    21,    25,   100,   376,\n",
              "         507,     4,  2110,    15,    79,   125,    23,   567,    13,\n",
              "        2134,   233,    36,  4852,     2,     5,    81,  1672,    10,\n",
              "          10,    92,   437,   129,    58,    13,    69,     8,   401,\n",
              "          61,  1432,    39,  1286,    46,     7,    12], dtype=int32)"
            ]
          },
          "execution_count": 7,
          "metadata": {},
          "output_type": "execute_result"
        }
      ],
      "source": [
        "x_train[60]"
      ]
    },
    {
      "cell_type": "markdown",
      "metadata": {
        "id": "DXqu1wUNPpwA"
      },
      "source": [
        "Let's get a baseline performance for Multi-Layer Perceptron"
      ]
    },
    {
      "cell_type": "code",
      "execution_count": 11,
      "metadata": {},
      "outputs": [],
      "source": [
        "# THIS WAS ADDED BECAUSE WE GET A SHAPE ERROR WITHOUT IT BUT PREVIOUS TESTS WERE BETTER\n",
        "\n",
        "# Our vectorized labels\n",
        "y_train = np.asarray(y_train).astype('float32').reshape((-1,1))\n",
        "y_test = np.asarray(y_test).astype('float32').reshape((-1,1))"
      ]
    },
    {
      "cell_type": "code",
      "execution_count": 12,
      "metadata": {
        "colab": {
          "base_uri": "https://localhost:8080/"
        },
        "id": "nA0BqzNqPpwA",
        "outputId": "073ae174-01cb-41b1-b42d-2e2770203f9e"
      },
      "outputs": [
        {
          "name": "stdout",
          "output_type": "stream",
          "text": [
            "Model: \"sequential_2\"\n",
            "_________________________________________________________________\n",
            " Layer (type)                Output Shape              Param #   \n",
            "=================================================================\n",
            " embedding_2 (Embedding)     (None, 250, 64)           1280000   \n",
            "                                                                 \n",
            " dense_4 (Dense)             (None, 250, 128)          8320      \n",
            "                                                                 \n",
            " dropout_2 (Dropout)         (None, 250, 128)          0         \n",
            "                                                                 \n",
            " dense_5 (Dense)             (None, 250, 1)            129       \n",
            "                                                                 \n",
            "=================================================================\n",
            "Total params: 1,288,449\n",
            "Trainable params: 1,288,449\n",
            "Non-trainable params: 0\n",
            "_________________________________________________________________\n"
          ]
        }
      ],
      "source": [
        "mlp = Sequential()\n",
        "# EMBEDDING WILL ADD A TON OF WEIGHTS LIKE SPACY WORKS\n",
        "# 64 dimensions\n",
        "# The Embedding Layer provides a spatial mapping (or Word Embedding) of all the \n",
        "# individual words in our training set. Words close to one another share context \n",
        "# and or meaning. This spatial mapping is learned during the training process.\n",
        "mlp.add(Embedding(max_features, 64, input_length=maxlen))\n",
        "\n",
        "# Dense layer with 128 neurons and relu activation\n",
        "mlp.add(Dense(128, activation='relu'))\n",
        "\n",
        "# Dropout layers fight overfitting and forces the model to learn multiple \n",
        "# representations of the same data by randomly disabling neurons in the \n",
        "# learning phase.\n",
        "mlp.add(Dropout(0.25))\n",
        "\n",
        "# Final layer is dense single node. A sigmoid activation function determines \n",
        "# the output from this node - a value between 0 and 1. Closer to 0 indicates \n",
        "# a negative review. Closer to 1 indicates a positive review.\n",
        "mlp.add(Dense(1, activation='sigmoid'))\n",
        "\n",
        "# Compile the model\n",
        "mlp.compile(loss='binary_crossentropy',\n",
        "            optimizer='Adam', \n",
        "            metrics=['accuracy'])\n",
        "\n",
        "mlp.summary()"
      ]
    },
    {
      "cell_type": "code",
      "execution_count": 13,
      "metadata": {
        "colab": {
          "base_uri": "https://localhost:8080/"
        },
        "id": "1AP2FDx4PpwA",
        "outputId": "55d9be4b-2676-4327-e996-d77086082027"
      },
      "outputs": [
        {
          "name": "stdout",
          "output_type": "stream",
          "text": [
            "Epoch 1/5\n",
            "782/782 [==============================] - 41s 51ms/step - loss: 0.6850 - accuracy: 0.5360 - val_loss: 0.6845 - val_accuracy: 0.5399\n",
            "Epoch 2/5\n",
            "782/782 [==============================] - 36s 46ms/step - loss: 0.6811 - accuracy: 0.5426 - val_loss: 0.6846 - val_accuracy: 0.5400\n",
            "Epoch 3/5\n",
            "782/782 [==============================] - 37s 48ms/step - loss: 0.6803 - accuracy: 0.5439 - val_loss: 0.6849 - val_accuracy: 0.5400\n",
            "Epoch 4/5\n",
            "782/782 [==============================] - 37s 48ms/step - loss: 0.6801 - accuracy: 0.5451 - val_loss: 0.6847 - val_accuracy: 0.5402\n",
            "Epoch 5/5\n",
            "782/782 [==============================] - 42s 54ms/step - loss: 0.6799 - accuracy: 0.5452 - val_loss: 0.6851 - val_accuracy: 0.5400\n"
          ]
        }
      ],
      "source": [
        "mlp_history = mlp.fit(x_train, y_train,\n",
        "                      batch_size=batch_size, \n",
        "                      epochs=5, \n",
        "                      validation_data=(x_test,y_test))"
      ]
    },
    {
      "cell_type": "code",
      "execution_count": 14,
      "metadata": {
        "colab": {
          "base_uri": "https://localhost:8080/",
          "height": 301
        },
        "id": "KaUx9_TnPpwA",
        "outputId": "c87b8315-b774-4e8b-e4ef-6346f69588f1"
      },
      "outputs": [
        {
          "data": {
            "image/png": "[encoded data removed]",
            "text/plain": [
              "<Figure size 432x288 with 1 Axes>"
            ]
          },
          "metadata": {},
          "output_type": "display_data"
        }
      ],
      "source": [
        "# Plot training & validation accuracy values\n",
        "plt.plot(mlp_history.history['accuracy'])\n",
        "plt.plot(mlp_history.history['val_accuracy'])\n",
        "plt.title('Model loss')\n",
        "plt.ylabel('Accuracy')\n",
        "plt.xlabel('Epoch')\n",
        "plt.legend(['Train', 'Test'], loc='upper left')\n",
        "plt.show();"
      ]
    },
    {
      "cell_type": "markdown",
      "metadata": {
        "id": "HDZGLkMhPpwB"
      },
      "source": [
        "Let's try using the SimpleRNN layers instead of Dense"
      ]
    },
    {
      "cell_type": "code",
      "execution_count": 15,
      "metadata": {
        "colab": {
          "base_uri": "https://localhost:8080/"
        },
        "id": "WifhmSSnPpwB",
        "outputId": "06d8cc6b-4217-49f1-e730-36852a16e9d9"
      },
      "outputs": [
        {
          "name": "stdout",
          "output_type": "stream",
          "text": [
            "Model: \"sequential_3\"\n",
            "_________________________________________________________________\n",
            " Layer (type)                Output Shape              Param #   \n",
            "=================================================================\n",
            " embedding_3 (Embedding)     (None, 250, 64)           1280000   \n",
            "                                                                 \n",
            " simple_rnn (SimpleRNN)      (None, 100)               16500     \n",
            "                                                                 \n",
            " dropout_3 (Dropout)         (None, 100)               0         \n",
            "                                                                 \n",
            " dense_6 (Dense)             (None, 1)                 101       \n",
            "                                                                 \n",
            "=================================================================\n",
            "Total params: 1,296,601\n",
            "Trainable params: 1,296,601\n",
            "Non-trainable params: 0\n",
            "_________________________________________________________________\n"
          ]
        }
      ],
      "source": [
        "rnn = Sequential()\n",
        "rnn.add(Embedding(max_features, 64, input_length=maxlen))\n",
        "rnn.add(SimpleRNN(100))\n",
        "rnn.add(Dropout(0.25))\n",
        "rnn.add(Dense(1, activation='sigmoid'))\n",
        "\n",
        "rnn.compile(loss='binary_crossentropy',\n",
        "              optimizer='adam', \n",
        "              metrics=['accuracy'])\n",
        "\n",
        "rnn.summary()"
      ]
    },
    {
      "cell_type": "code",
      "execution_count": 16,
      "metadata": {
        "colab": {
          "base_uri": "https://localhost:8080/"
        },
        "id": "fZbsEQnOPpwB",
        "outputId": "b864ab32-235b-4d0b-df45-a85ec8581b35"
      },
      "outputs": [
        {
          "name": "stdout",
          "output_type": "stream",
          "text": [
            "Epoch 1/5\n",
            "782/782 [==============================] - 46s 59ms/step - loss: 0.6798 - accuracy: 0.5453 - val_loss: 0.6850 - val_accuracy: 0.5401\n",
            "Epoch 2/5\n",
            "782/782 [==============================] - 52s 67ms/step - loss: 0.6797 - accuracy: 0.5451 - val_loss: 0.6852 - val_accuracy: 0.5401\n",
            "Epoch 3/5\n",
            "782/782 [==============================] - 42s 53ms/step - loss: 0.6796 - accuracy: 0.5456 - val_loss: 0.6854 - val_accuracy: 0.5401\n",
            "Epoch 4/5\n",
            "782/782 [==============================] - 40s 51ms/step - loss: 0.6795 - accuracy: 0.5453 - val_loss: 0.6852 - val_accuracy: 0.5401\n",
            "Epoch 5/5\n",
            "782/782 [==============================] - 43s 56ms/step - loss: 0.6794 - accuracy: 0.5456 - val_loss: 0.6858 - val_accuracy: 0.5402\n"
          ]
        }
      ],
      "source": [
        "rnn_history = mlp.fit(x_train, y_train,\n",
        "                      batch_size=batch_size, \n",
        "                      epochs=5, \n",
        "                      validation_data=(x_test,y_test))"
      ]
    },
    {
      "cell_type": "code",
      "execution_count": 17,
      "metadata": {
        "colab": {
          "base_uri": "https://localhost:8080/",
          "height": 301
        },
        "id": "e7l5mOtDPpwB",
        "outputId": "3fff322d-cf97-4012-9eba-7a2943054601"
      },
      "outputs": [
        {
          "data": {
            "image/png": "[encoded data removed]",
            "text/plain": [
              "<Figure size 432x288 with 1 Axes>"
            ]
          },
          "metadata": {},
          "output_type": "display_data"
        }
      ],
      "source": [
        "# Plot training & validation accuracy values\n",
        "plt.plot(rnn_history.history['accuracy'])\n",
        "plt.plot(rnn_history.history['val_accuracy'])\n",
        "plt.title('Model loss')\n",
        "plt.ylabel('Accuracy')\n",
        "plt.xlabel('Epoch')\n",
        "plt.legend(['Train', 'Test'], loc='upper left')\n",
        "plt.show();"
      ]
    },
    {
      "cell_type": "markdown",
      "metadata": {
        "id": "GSN1kVDXPpwB"
      },
      "source": [
        "Lastly, let's try replacing the SimpleRNN layer with LSTM."
      ]
    },
    {
      "cell_type": "code",
      "execution_count": 18,
      "metadata": {
        "colab": {
          "base_uri": "https://localhost:8080/"
        },
        "id": "ZYWxzkN2PpwB",
        "outputId": "9b95363b-cc1d-46eb-fd7a-f330176693ca"
      },
      "outputs": [
        {
          "name": "stdout",
          "output_type": "stream",
          "text": [
            "Model: \"sequential_4\"\n",
            "_________________________________________________________________\n",
            " Layer (type)                Output Shape              Param #   \n",
            "=================================================================\n",
            " embedding_4 (Embedding)     (None, None, 128)         2560000   \n",
            "                                                                 \n",
            " lstm (LSTM)                 (None, 128)               131584    \n",
            "                                                                 \n",
            " dropout_4 (Dropout)         (None, 128)               0         \n",
            "                                                                 \n",
            " dense_7 (Dense)             (None, 1)                 129       \n",
            "                                                                 \n",
            "=================================================================\n",
            "Total params: 2,691,713\n",
            "Trainable params: 2,691,713\n",
            "Non-trainable params: 0\n",
            "_________________________________________________________________\n"
          ]
        }
      ],
      "source": [
        "lstm = Sequential()\n",
        "lstm.add(Embedding(max_features, 128))\n",
        "\n",
        "# We are using a fast version of LSTM whih is optimised for GPUs. This layer \n",
        "# looks at the sequence of words in the review, along with their word embeddings\n",
        "# and uses both of these to determine to sentiment of a given review.\n",
        "\n",
        "# If you wanted to stack multiple LSTM layers:\n",
        "# model.add(LSTM(256, return_sequences=True))\n",
        "# model.add(LSTM(128))\n",
        "\n",
        "# If you wanted to add Bidirectional LSTM:\n",
        "# lstm.add(Bidirectional(LSTM(128)))\n",
        "\n",
        "# Note for training on GPU:\n",
        "# In TensorFlow 2.0, the built-in LSTM and GRU layers have been updated to leverage CuDNN kernels by default when a GPU is available. \n",
        "# With this change, the prior keras.layers.CuDNNLSTM/CuDNNGRU layers have been deprecated, and you can build your model without worrying \n",
        "# about the hardware it will run on.\n",
        "\n",
        "# Since the CuDNN kernel is built with certain assumptions, this means the layer will not be able to use the CuDNN kernel if you change the \n",
        "# defaults of the built-in LSTM or GRU layers. E.g.:\n",
        "#   - Changing the activation function from tanh to something else.\n",
        "#   - Changing the recurrent_activation function from sigmoid to something else.\n",
        "#   - Using recurrent_dropout > 0.\n",
        "lstm.add(LSTM(128))\n",
        "lstm.add(Dropout(0.25))\n",
        "lstm.add(Dense(1, activation='sigmoid'))\n",
        "\n",
        "lstm.compile(loss='binary_crossentropy',\n",
        "              optimizer='adam', \n",
        "              metrics=['accuracy'])\n",
        "\n",
        "lstm.summary()"
      ]
    },
    {
      "cell_type": "code",
      "execution_count": 19,
      "metadata": {
        "colab": {
          "base_uri": "https://localhost:8080/"
        },
        "id": "BrE6XsqqPpwB",
        "outputId": "3e9f30c3-540c-4710-cf2d-9b38e530d224"
      },
      "outputs": [
        {
          "name": "stdout",
          "output_type": "stream",
          "text": [
            "Epoch 1/5\n",
            "277/782 [=========>....................] - ETA: 5:04 - loss: 0.4965 - accuracy: 0.7456"
          ]
        },
        {
          "ename": "KeyboardInterrupt",
          "evalue": "",
          "output_type": "error",
          "traceback": [
            "\u001b[0;31m---------------------------------------------------------------------------\u001b[0m",
            "\u001b[0;31mKeyboardInterrupt\u001b[0m                         Traceback (most recent call last)",
            "\u001b[1;32m/home/greg/github/DS-Unit-4-Sprint-3-Deep-Learning/module1-rnn-and-lstm/LS_DSPT7_431_RNN_and_LSTM_Lecture.ipynb Cell 29'\u001b[0m in \u001b[0;36m<cell line: 1>\u001b[0;34m()\u001b[0m\n\u001b[0;32m----> <a href='vscode-notebook-cell://wsl%2Bubuntu/home/greg/github/DS-Unit-4-Sprint-3-Deep-Learning/module1-rnn-and-lstm/LS_DSPT7_431_RNN_and_LSTM_Lecture.ipynb#ch0000026vscode-remote?line=0'>1</a>\u001b[0m lstm_history \u001b[39m=\u001b[39m lstm\u001b[39m.\u001b[39;49mfit(x_train, y_train,\n\u001b[1;32m      <a href='vscode-notebook-cell://wsl%2Bubuntu/home/greg/github/DS-Unit-4-Sprint-3-Deep-Learning/module1-rnn-and-lstm/LS_DSPT7_431_RNN_and_LSTM_Lecture.ipynb#ch0000026vscode-remote?line=1'>2</a>\u001b[0m                         batch_size\u001b[39m=\u001b[39;49mbatch_size, \n\u001b[1;32m      <a href='vscode-notebook-cell://wsl%2Bubuntu/home/greg/github/DS-Unit-4-Sprint-3-Deep-Learning/module1-rnn-and-lstm/LS_DSPT7_431_RNN_and_LSTM_Lecture.ipynb#ch0000026vscode-remote?line=2'>3</a>\u001b[0m                         epochs\u001b[39m=\u001b[39;49m\u001b[39m5\u001b[39;49m, \n\u001b[1;32m      <a href='vscode-notebook-cell://wsl%2Bubuntu/home/greg/github/DS-Unit-4-Sprint-3-Deep-Learning/module1-rnn-and-lstm/LS_DSPT7_431_RNN_and_LSTM_Lecture.ipynb#ch0000026vscode-remote?line=3'>4</a>\u001b[0m                         validation_data\u001b[39m=\u001b[39;49m(x_test,y_test))\n",
            "File \u001b[0;32m~/github/DS-Unit-4-Sprint-3-Deep-Learning/.venv/lib/python3.8/site-packages/keras/utils/traceback_utils.py:64\u001b[0m, in \u001b[0;36mfilter_traceback.<locals>.error_handler\u001b[0;34m(*args, **kwargs)\u001b[0m\n\u001b[1;32m     <a href='file:///home/greg/github/DS-Unit-4-Sprint-3-Deep-Learning/.venv/lib/python3.8/site-packages/keras/utils/traceback_utils.py?line=61'>62</a>\u001b[0m filtered_tb \u001b[39m=\u001b[39m \u001b[39mNone\u001b[39;00m\n\u001b[1;32m     <a href='file:///home/greg/github/DS-Unit-4-Sprint-3-Deep-Learning/.venv/lib/python3.8/site-packages/keras/utils/traceback_utils.py?line=62'>63</a>\u001b[0m \u001b[39mtry\u001b[39;00m:\n\u001b[0;32m---> <a href='file:///home/greg/github/DS-Unit-4-Sprint-3-Deep-Learning/.venv/lib/python3.8/site-packages/keras/utils/traceback_utils.py?line=63'>64</a>\u001b[0m   \u001b[39mreturn\u001b[39;00m fn(\u001b[39m*\u001b[39;49margs, \u001b[39m*\u001b[39;49m\u001b[39m*\u001b[39;49mkwargs)\n\u001b[1;32m     <a href='file:///home/greg/github/DS-Unit-4-Sprint-3-Deep-Learning/.venv/lib/python3.8/site-packages/keras/utils/traceback_utils.py?line=64'>65</a>\u001b[0m \u001b[39mexcept\u001b[39;00m \u001b[39mException\u001b[39;00m \u001b[39mas\u001b[39;00m e:  \u001b[39m# pylint: disable=broad-except\u001b[39;00m\n\u001b[1;32m     <a href='file:///home/greg/github/DS-Unit-4-Sprint-3-Deep-Learning/.venv/lib/python3.8/site-packages/keras/utils/traceback_utils.py?line=65'>66</a>\u001b[0m   filtered_tb \u001b[39m=\u001b[39m _process_traceback_frames(e\u001b[39m.\u001b[39m__traceback__)\n",
            "File \u001b[0;32m~/github/DS-Unit-4-Sprint-3-Deep-Learning/.venv/lib/python3.8/site-packages/keras/engine/training.py:1384\u001b[0m, in \u001b[0;36mModel.fit\u001b[0;34m(self, x, y, batch_size, epochs, verbose, callbacks, validation_split, validation_data, shuffle, class_weight, sample_weight, initial_epoch, steps_per_epoch, validation_steps, validation_batch_size, validation_freq, max_queue_size, workers, use_multiprocessing)\u001b[0m\n\u001b[1;32m   <a href='file:///home/greg/github/DS-Unit-4-Sprint-3-Deep-Learning/.venv/lib/python3.8/site-packages/keras/engine/training.py?line=1376'>1377</a>\u001b[0m \u001b[39mwith\u001b[39;00m tf\u001b[39m.\u001b[39mprofiler\u001b[39m.\u001b[39mexperimental\u001b[39m.\u001b[39mTrace(\n\u001b[1;32m   <a href='file:///home/greg/github/DS-Unit-4-Sprint-3-Deep-Learning/.venv/lib/python3.8/site-packages/keras/engine/training.py?line=1377'>1378</a>\u001b[0m     \u001b[39m'\u001b[39m\u001b[39mtrain\u001b[39m\u001b[39m'\u001b[39m,\n\u001b[1;32m   <a href='file:///home/greg/github/DS-Unit-4-Sprint-3-Deep-Learning/.venv/lib/python3.8/site-packages/keras/engine/training.py?line=1378'>1379</a>\u001b[0m     epoch_num\u001b[39m=\u001b[39mepoch,\n\u001b[1;32m   <a href='file:///home/greg/github/DS-Unit-4-Sprint-3-Deep-Learning/.venv/lib/python3.8/site-packages/keras/engine/training.py?line=1379'>1380</a>\u001b[0m     step_num\u001b[39m=\u001b[39mstep,\n\u001b[1;32m   <a href='file:///home/greg/github/DS-Unit-4-Sprint-3-Deep-Learning/.venv/lib/python3.8/site-packages/keras/engine/training.py?line=1380'>1381</a>\u001b[0m     batch_size\u001b[39m=\u001b[39mbatch_size,\n\u001b[1;32m   <a href='file:///home/greg/github/DS-Unit-4-Sprint-3-Deep-Learning/.venv/lib/python3.8/site-packages/keras/engine/training.py?line=1381'>1382</a>\u001b[0m     _r\u001b[39m=\u001b[39m\u001b[39m1\u001b[39m):\n\u001b[1;32m   <a href='file:///home/greg/github/DS-Unit-4-Sprint-3-Deep-Learning/.venv/lib/python3.8/site-packages/keras/engine/training.py?line=1382'>1383</a>\u001b[0m   callbacks\u001b[39m.\u001b[39mon_train_batch_begin(step)\n\u001b[0;32m-> <a href='file:///home/greg/github/DS-Unit-4-Sprint-3-Deep-Learning/.venv/lib/python3.8/site-packages/keras/engine/training.py?line=1383'>1384</a>\u001b[0m   tmp_logs \u001b[39m=\u001b[39m \u001b[39mself\u001b[39;49m\u001b[39m.\u001b[39;49mtrain_function(iterator)\n\u001b[1;32m   <a href='file:///home/greg/github/DS-Unit-4-Sprint-3-Deep-Learning/.venv/lib/python3.8/site-packages/keras/engine/training.py?line=1384'>1385</a>\u001b[0m   \u001b[39mif\u001b[39;00m data_handler\u001b[39m.\u001b[39mshould_sync:\n\u001b[1;32m   <a href='file:///home/greg/github/DS-Unit-4-Sprint-3-Deep-Learning/.venv/lib/python3.8/site-packages/keras/engine/training.py?line=1385'>1386</a>\u001b[0m     context\u001b[39m.\u001b[39masync_wait()\n",
            "File \u001b[0;32m~/github/DS-Unit-4-Sprint-3-Deep-Learning/.venv/lib/python3.8/site-packages/tensorflow/python/util/traceback_utils.py:150\u001b[0m, in \u001b[0;36mfilter_traceback.<locals>.error_handler\u001b[0;34m(*args, **kwargs)\u001b[0m\n\u001b[1;32m    <a href='file:///home/greg/github/DS-Unit-4-Sprint-3-Deep-Learning/.venv/lib/python3.8/site-packages/tensorflow/python/util/traceback_utils.py?line=147'>148</a>\u001b[0m filtered_tb \u001b[39m=\u001b[39m \u001b[39mNone\u001b[39;00m\n\u001b[1;32m    <a href='file:///home/greg/github/DS-Unit-4-Sprint-3-Deep-Learning/.venv/lib/python3.8/site-packages/tensorflow/python/util/traceback_utils.py?line=148'>149</a>\u001b[0m \u001b[39mtry\u001b[39;00m:\n\u001b[0;32m--> <a href='file:///home/greg/github/DS-Unit-4-Sprint-3-Deep-Learning/.venv/lib/python3.8/site-packages/tensorflow/python/util/traceback_utils.py?line=149'>150</a>\u001b[0m   \u001b[39mreturn\u001b[39;00m fn(\u001b[39m*\u001b[39;49margs, \u001b[39m*\u001b[39;49m\u001b[39m*\u001b[39;49mkwargs)\n\u001b[1;32m    <a href='file:///home/greg/github/DS-Unit-4-Sprint-3-Deep-Learning/.venv/lib/python3.8/site-packages/tensorflow/python/util/traceback_utils.py?line=150'>151</a>\u001b[0m \u001b[39mexcept\u001b[39;00m \u001b[39mException\u001b[39;00m \u001b[39mas\u001b[39;00m e:\n\u001b[1;32m    <a href='file:///home/greg/github/DS-Unit-4-Sprint-3-Deep-Learning/.venv/lib/python3.8/site-packages/tensorflow/python/util/traceback_utils.py?line=151'>152</a>\u001b[0m   filtered_tb \u001b[39m=\u001b[39m _process_traceback_frames(e\u001b[39m.\u001b[39m__traceback__)\n",
            "File \u001b[0;32m~/github/DS-Unit-4-Sprint-3-Deep-Learning/.venv/lib/python3.8/site-packages/tensorflow/python/eager/def_function.py:915\u001b[0m, in \u001b[0;36mFunction.__call__\u001b[0;34m(self, *args, **kwds)\u001b[0m\n\u001b[1;32m    <a href='file:///home/greg/github/DS-Unit-4-Sprint-3-Deep-Learning/.venv/lib/python3.8/site-packages/tensorflow/python/eager/def_function.py?line=911'>912</a>\u001b[0m compiler \u001b[39m=\u001b[39m \u001b[39m\"\u001b[39m\u001b[39mxla\u001b[39m\u001b[39m\"\u001b[39m \u001b[39mif\u001b[39;00m \u001b[39mself\u001b[39m\u001b[39m.\u001b[39m_jit_compile \u001b[39melse\u001b[39;00m \u001b[39m\"\u001b[39m\u001b[39mnonXla\u001b[39m\u001b[39m\"\u001b[39m\n\u001b[1;32m    <a href='file:///home/greg/github/DS-Unit-4-Sprint-3-Deep-Learning/.venv/lib/python3.8/site-packages/tensorflow/python/eager/def_function.py?line=913'>914</a>\u001b[0m \u001b[39mwith\u001b[39;00m OptionalXlaContext(\u001b[39mself\u001b[39m\u001b[39m.\u001b[39m_jit_compile):\n\u001b[0;32m--> <a href='file:///home/greg/github/DS-Unit-4-Sprint-3-Deep-Learning/.venv/lib/python3.8/site-packages/tensorflow/python/eager/def_function.py?line=914'>915</a>\u001b[0m   result \u001b[39m=\u001b[39m \u001b[39mself\u001b[39;49m\u001b[39m.\u001b[39;49m_call(\u001b[39m*\u001b[39;49margs, \u001b[39m*\u001b[39;49m\u001b[39m*\u001b[39;49mkwds)\n\u001b[1;32m    <a href='file:///home/greg/github/DS-Unit-4-Sprint-3-Deep-Learning/.venv/lib/python3.8/site-packages/tensorflow/python/eager/def_function.py?line=916'>917</a>\u001b[0m new_tracing_count \u001b[39m=\u001b[39m \u001b[39mself\u001b[39m\u001b[39m.\u001b[39mexperimental_get_tracing_count()\n\u001b[1;32m    <a href='file:///home/greg/github/DS-Unit-4-Sprint-3-Deep-Learning/.venv/lib/python3.8/site-packages/tensorflow/python/eager/def_function.py?line=917'>918</a>\u001b[0m without_tracing \u001b[39m=\u001b[39m (tracing_count \u001b[39m==\u001b[39m new_tracing_count)\n",
            "File \u001b[0;32m~/github/DS-Unit-4-Sprint-3-Deep-Learning/.venv/lib/python3.8/site-packages/tensorflow/python/eager/def_function.py:947\u001b[0m, in \u001b[0;36mFunction._call\u001b[0;34m(self, *args, **kwds)\u001b[0m\n\u001b[1;32m    <a href='file:///home/greg/github/DS-Unit-4-Sprint-3-Deep-Learning/.venv/lib/python3.8/site-packages/tensorflow/python/eager/def_function.py?line=943'>944</a>\u001b[0m   \u001b[39mself\u001b[39m\u001b[39m.\u001b[39m_lock\u001b[39m.\u001b[39mrelease()\n\u001b[1;32m    <a href='file:///home/greg/github/DS-Unit-4-Sprint-3-Deep-Learning/.venv/lib/python3.8/site-packages/tensorflow/python/eager/def_function.py?line=944'>945</a>\u001b[0m   \u001b[39m# In this case we have created variables on the first call, so we run the\u001b[39;00m\n\u001b[1;32m    <a href='file:///home/greg/github/DS-Unit-4-Sprint-3-Deep-Learning/.venv/lib/python3.8/site-packages/tensorflow/python/eager/def_function.py?line=945'>946</a>\u001b[0m   \u001b[39m# defunned version which is guaranteed to never create variables.\u001b[39;00m\n\u001b[0;32m--> <a href='file:///home/greg/github/DS-Unit-4-Sprint-3-Deep-Learning/.venv/lib/python3.8/site-packages/tensorflow/python/eager/def_function.py?line=946'>947</a>\u001b[0m   \u001b[39mreturn\u001b[39;00m \u001b[39mself\u001b[39;49m\u001b[39m.\u001b[39;49m_stateless_fn(\u001b[39m*\u001b[39;49margs, \u001b[39m*\u001b[39;49m\u001b[39m*\u001b[39;49mkwds)  \u001b[39m# pylint: disable=not-callable\u001b[39;00m\n\u001b[1;32m    <a href='file:///home/greg/github/DS-Unit-4-Sprint-3-Deep-Learning/.venv/lib/python3.8/site-packages/tensorflow/python/eager/def_function.py?line=947'>948</a>\u001b[0m \u001b[39melif\u001b[39;00m \u001b[39mself\u001b[39m\u001b[39m.\u001b[39m_stateful_fn \u001b[39mis\u001b[39;00m \u001b[39mnot\u001b[39;00m \u001b[39mNone\u001b[39;00m:\n\u001b[1;32m    <a href='file:///home/greg/github/DS-Unit-4-Sprint-3-Deep-Learning/.venv/lib/python3.8/site-packages/tensorflow/python/eager/def_function.py?line=948'>949</a>\u001b[0m   \u001b[39m# Release the lock early so that multiple threads can perform the call\u001b[39;00m\n\u001b[1;32m    <a href='file:///home/greg/github/DS-Unit-4-Sprint-3-Deep-Learning/.venv/lib/python3.8/site-packages/tensorflow/python/eager/def_function.py?line=949'>950</a>\u001b[0m   \u001b[39m# in parallel.\u001b[39;00m\n\u001b[1;32m    <a href='file:///home/greg/github/DS-Unit-4-Sprint-3-Deep-Learning/.venv/lib/python3.8/site-packages/tensorflow/python/eager/def_function.py?line=950'>951</a>\u001b[0m   \u001b[39mself\u001b[39m\u001b[39m.\u001b[39m_lock\u001b[39m.\u001b[39mrelease()\n",
            "File \u001b[0;32m~/github/DS-Unit-4-Sprint-3-Deep-Learning/.venv/lib/python3.8/site-packages/tensorflow/python/eager/function.py:2956\u001b[0m, in \u001b[0;36mFunction.__call__\u001b[0;34m(self, *args, **kwargs)\u001b[0m\n\u001b[1;32m   <a href='file:///home/greg/github/DS-Unit-4-Sprint-3-Deep-Learning/.venv/lib/python3.8/site-packages/tensorflow/python/eager/function.py?line=2952'>2953</a>\u001b[0m \u001b[39mwith\u001b[39;00m \u001b[39mself\u001b[39m\u001b[39m.\u001b[39m_lock:\n\u001b[1;32m   <a href='file:///home/greg/github/DS-Unit-4-Sprint-3-Deep-Learning/.venv/lib/python3.8/site-packages/tensorflow/python/eager/function.py?line=2953'>2954</a>\u001b[0m   (graph_function,\n\u001b[1;32m   <a href='file:///home/greg/github/DS-Unit-4-Sprint-3-Deep-Learning/.venv/lib/python3.8/site-packages/tensorflow/python/eager/function.py?line=2954'>2955</a>\u001b[0m    filtered_flat_args) \u001b[39m=\u001b[39m \u001b[39mself\u001b[39m\u001b[39m.\u001b[39m_maybe_define_function(args, kwargs)\n\u001b[0;32m-> <a href='file:///home/greg/github/DS-Unit-4-Sprint-3-Deep-Learning/.venv/lib/python3.8/site-packages/tensorflow/python/eager/function.py?line=2955'>2956</a>\u001b[0m \u001b[39mreturn\u001b[39;00m graph_function\u001b[39m.\u001b[39;49m_call_flat(\n\u001b[1;32m   <a href='file:///home/greg/github/DS-Unit-4-Sprint-3-Deep-Learning/.venv/lib/python3.8/site-packages/tensorflow/python/eager/function.py?line=2956'>2957</a>\u001b[0m     filtered_flat_args, captured_inputs\u001b[39m=\u001b[39;49mgraph_function\u001b[39m.\u001b[39;49mcaptured_inputs)\n",
            "File \u001b[0;32m~/github/DS-Unit-4-Sprint-3-Deep-Learning/.venv/lib/python3.8/site-packages/tensorflow/python/eager/function.py:1853\u001b[0m, in \u001b[0;36mConcreteFunction._call_flat\u001b[0;34m(self, args, captured_inputs, cancellation_manager)\u001b[0m\n\u001b[1;32m   <a href='file:///home/greg/github/DS-Unit-4-Sprint-3-Deep-Learning/.venv/lib/python3.8/site-packages/tensorflow/python/eager/function.py?line=1848'>1849</a>\u001b[0m possible_gradient_type \u001b[39m=\u001b[39m gradients_util\u001b[39m.\u001b[39mPossibleTapeGradientTypes(args)\n\u001b[1;32m   <a href='file:///home/greg/github/DS-Unit-4-Sprint-3-Deep-Learning/.venv/lib/python3.8/site-packages/tensorflow/python/eager/function.py?line=1849'>1850</a>\u001b[0m \u001b[39mif\u001b[39;00m (possible_gradient_type \u001b[39m==\u001b[39m gradients_util\u001b[39m.\u001b[39mPOSSIBLE_GRADIENT_TYPES_NONE\n\u001b[1;32m   <a href='file:///home/greg/github/DS-Unit-4-Sprint-3-Deep-Learning/.venv/lib/python3.8/site-packages/tensorflow/python/eager/function.py?line=1850'>1851</a>\u001b[0m     \u001b[39mand\u001b[39;00m executing_eagerly):\n\u001b[1;32m   <a href='file:///home/greg/github/DS-Unit-4-Sprint-3-Deep-Learning/.venv/lib/python3.8/site-packages/tensorflow/python/eager/function.py?line=1851'>1852</a>\u001b[0m   \u001b[39m# No tape is watching; skip to running the function.\u001b[39;00m\n\u001b[0;32m-> <a href='file:///home/greg/github/DS-Unit-4-Sprint-3-Deep-Learning/.venv/lib/python3.8/site-packages/tensorflow/python/eager/function.py?line=1852'>1853</a>\u001b[0m   \u001b[39mreturn\u001b[39;00m \u001b[39mself\u001b[39m\u001b[39m.\u001b[39m_build_call_outputs(\u001b[39mself\u001b[39;49m\u001b[39m.\u001b[39;49m_inference_function\u001b[39m.\u001b[39;49mcall(\n\u001b[1;32m   <a href='file:///home/greg/github/DS-Unit-4-Sprint-3-Deep-Learning/.venv/lib/python3.8/site-packages/tensorflow/python/eager/function.py?line=1853'>1854</a>\u001b[0m       ctx, args, cancellation_manager\u001b[39m=\u001b[39;49mcancellation_manager))\n\u001b[1;32m   <a href='file:///home/greg/github/DS-Unit-4-Sprint-3-Deep-Learning/.venv/lib/python3.8/site-packages/tensorflow/python/eager/function.py?line=1854'>1855</a>\u001b[0m forward_backward \u001b[39m=\u001b[39m \u001b[39mself\u001b[39m\u001b[39m.\u001b[39m_select_forward_and_backward_functions(\n\u001b[1;32m   <a href='file:///home/greg/github/DS-Unit-4-Sprint-3-Deep-Learning/.venv/lib/python3.8/site-packages/tensorflow/python/eager/function.py?line=1855'>1856</a>\u001b[0m     args,\n\u001b[1;32m   <a href='file:///home/greg/github/DS-Unit-4-Sprint-3-Deep-Learning/.venv/lib/python3.8/site-packages/tensorflow/python/eager/function.py?line=1856'>1857</a>\u001b[0m     possible_gradient_type,\n\u001b[1;32m   <a href='file:///home/greg/github/DS-Unit-4-Sprint-3-Deep-Learning/.venv/lib/python3.8/site-packages/tensorflow/python/eager/function.py?line=1857'>1858</a>\u001b[0m     executing_eagerly)\n\u001b[1;32m   <a href='file:///home/greg/github/DS-Unit-4-Sprint-3-Deep-Learning/.venv/lib/python3.8/site-packages/tensorflow/python/eager/function.py?line=1858'>1859</a>\u001b[0m forward_function, args_with_tangents \u001b[39m=\u001b[39m forward_backward\u001b[39m.\u001b[39mforward()\n",
            "File \u001b[0;32m~/github/DS-Unit-4-Sprint-3-Deep-Learning/.venv/lib/python3.8/site-packages/tensorflow/python/eager/function.py:499\u001b[0m, in \u001b[0;36m_EagerDefinedFunction.call\u001b[0;34m(self, ctx, args, cancellation_manager)\u001b[0m\n\u001b[1;32m    <a href='file:///home/greg/github/DS-Unit-4-Sprint-3-Deep-Learning/.venv/lib/python3.8/site-packages/tensorflow/python/eager/function.py?line=496'>497</a>\u001b[0m \u001b[39mwith\u001b[39;00m _InterpolateFunctionError(\u001b[39mself\u001b[39m):\n\u001b[1;32m    <a href='file:///home/greg/github/DS-Unit-4-Sprint-3-Deep-Learning/.venv/lib/python3.8/site-packages/tensorflow/python/eager/function.py?line=497'>498</a>\u001b[0m   \u001b[39mif\u001b[39;00m cancellation_manager \u001b[39mis\u001b[39;00m \u001b[39mNone\u001b[39;00m:\n\u001b[0;32m--> <a href='file:///home/greg/github/DS-Unit-4-Sprint-3-Deep-Learning/.venv/lib/python3.8/site-packages/tensorflow/python/eager/function.py?line=498'>499</a>\u001b[0m     outputs \u001b[39m=\u001b[39m execute\u001b[39m.\u001b[39;49mexecute(\n\u001b[1;32m    <a href='file:///home/greg/github/DS-Unit-4-Sprint-3-Deep-Learning/.venv/lib/python3.8/site-packages/tensorflow/python/eager/function.py?line=499'>500</a>\u001b[0m         \u001b[39mstr\u001b[39;49m(\u001b[39mself\u001b[39;49m\u001b[39m.\u001b[39;49msignature\u001b[39m.\u001b[39;49mname),\n\u001b[1;32m    <a href='file:///home/greg/github/DS-Unit-4-Sprint-3-Deep-Learning/.venv/lib/python3.8/site-packages/tensorflow/python/eager/function.py?line=500'>501</a>\u001b[0m         num_outputs\u001b[39m=\u001b[39;49m\u001b[39mself\u001b[39;49m\u001b[39m.\u001b[39;49m_num_outputs,\n\u001b[1;32m    <a href='file:///home/greg/github/DS-Unit-4-Sprint-3-Deep-Learning/.venv/lib/python3.8/site-packages/tensorflow/python/eager/function.py?line=501'>502</a>\u001b[0m         inputs\u001b[39m=\u001b[39;49margs,\n\u001b[1;32m    <a href='file:///home/greg/github/DS-Unit-4-Sprint-3-Deep-Learning/.venv/lib/python3.8/site-packages/tensorflow/python/eager/function.py?line=502'>503</a>\u001b[0m         attrs\u001b[39m=\u001b[39;49mattrs,\n\u001b[1;32m    <a href='file:///home/greg/github/DS-Unit-4-Sprint-3-Deep-Learning/.venv/lib/python3.8/site-packages/tensorflow/python/eager/function.py?line=503'>504</a>\u001b[0m         ctx\u001b[39m=\u001b[39;49mctx)\n\u001b[1;32m    <a href='file:///home/greg/github/DS-Unit-4-Sprint-3-Deep-Learning/.venv/lib/python3.8/site-packages/tensorflow/python/eager/function.py?line=504'>505</a>\u001b[0m   \u001b[39melse\u001b[39;00m:\n\u001b[1;32m    <a href='file:///home/greg/github/DS-Unit-4-Sprint-3-Deep-Learning/.venv/lib/python3.8/site-packages/tensorflow/python/eager/function.py?line=505'>506</a>\u001b[0m     outputs \u001b[39m=\u001b[39m execute\u001b[39m.\u001b[39mexecute_with_cancellation(\n\u001b[1;32m    <a href='file:///home/greg/github/DS-Unit-4-Sprint-3-Deep-Learning/.venv/lib/python3.8/site-packages/tensorflow/python/eager/function.py?line=506'>507</a>\u001b[0m         \u001b[39mstr\u001b[39m(\u001b[39mself\u001b[39m\u001b[39m.\u001b[39msignature\u001b[39m.\u001b[39mname),\n\u001b[1;32m    <a href='file:///home/greg/github/DS-Unit-4-Sprint-3-Deep-Learning/.venv/lib/python3.8/site-packages/tensorflow/python/eager/function.py?line=507'>508</a>\u001b[0m         num_outputs\u001b[39m=\u001b[39m\u001b[39mself\u001b[39m\u001b[39m.\u001b[39m_num_outputs,\n\u001b[0;32m   (...)\u001b[0m\n\u001b[1;32m    <a href='file:///home/greg/github/DS-Unit-4-Sprint-3-Deep-Learning/.venv/lib/python3.8/site-packages/tensorflow/python/eager/function.py?line=510'>511</a>\u001b[0m         ctx\u001b[39m=\u001b[39mctx,\n\u001b[1;32m    <a href='file:///home/greg/github/DS-Unit-4-Sprint-3-Deep-Learning/.venv/lib/python3.8/site-packages/tensorflow/python/eager/function.py?line=511'>512</a>\u001b[0m         cancellation_manager\u001b[39m=\u001b[39mcancellation_manager)\n",
            "File \u001b[0;32m~/github/DS-Unit-4-Sprint-3-Deep-Learning/.venv/lib/python3.8/site-packages/tensorflow/python/eager/execute.py:54\u001b[0m, in \u001b[0;36mquick_execute\u001b[0;34m(op_name, num_outputs, inputs, attrs, ctx, name)\u001b[0m\n\u001b[1;32m     <a href='file:///home/greg/github/DS-Unit-4-Sprint-3-Deep-Learning/.venv/lib/python3.8/site-packages/tensorflow/python/eager/execute.py?line=51'>52</a>\u001b[0m \u001b[39mtry\u001b[39;00m:\n\u001b[1;32m     <a href='file:///home/greg/github/DS-Unit-4-Sprint-3-Deep-Learning/.venv/lib/python3.8/site-packages/tensorflow/python/eager/execute.py?line=52'>53</a>\u001b[0m   ctx\u001b[39m.\u001b[39mensure_initialized()\n\u001b[0;32m---> <a href='file:///home/greg/github/DS-Unit-4-Sprint-3-Deep-Learning/.venv/lib/python3.8/site-packages/tensorflow/python/eager/execute.py?line=53'>54</a>\u001b[0m   tensors \u001b[39m=\u001b[39m pywrap_tfe\u001b[39m.\u001b[39;49mTFE_Py_Execute(ctx\u001b[39m.\u001b[39;49m_handle, device_name, op_name,\n\u001b[1;32m     <a href='file:///home/greg/github/DS-Unit-4-Sprint-3-Deep-Learning/.venv/lib/python3.8/site-packages/tensorflow/python/eager/execute.py?line=54'>55</a>\u001b[0m                                       inputs, attrs, num_outputs)\n\u001b[1;32m     <a href='file:///home/greg/github/DS-Unit-4-Sprint-3-Deep-Learning/.venv/lib/python3.8/site-packages/tensorflow/python/eager/execute.py?line=55'>56</a>\u001b[0m \u001b[39mexcept\u001b[39;00m core\u001b[39m.\u001b[39m_NotOkStatusException \u001b[39mas\u001b[39;00m e:\n\u001b[1;32m     <a href='file:///home/greg/github/DS-Unit-4-Sprint-3-Deep-Learning/.venv/lib/python3.8/site-packages/tensorflow/python/eager/execute.py?line=56'>57</a>\u001b[0m   \u001b[39mif\u001b[39;00m name \u001b[39mis\u001b[39;00m \u001b[39mnot\u001b[39;00m \u001b[39mNone\u001b[39;00m:\n",
            "\u001b[0;31mKeyboardInterrupt\u001b[0m: "
          ]
        }
      ],
      "source": [
        "lstm_history = lstm.fit(x_train, y_train,\n",
        "                        batch_size=batch_size, \n",
        "                        epochs=5, \n",
        "                        validation_data=(x_test,y_test))"
      ]
    },
    {
      "cell_type": "code",
      "execution_count": null,
      "metadata": {
        "colab": {
          "base_uri": "https://localhost:8080/",
          "height": 301
        },
        "id": "ueo6DJ2SPpwB",
        "outputId": "047c2c62-ddea-4d08-d189-f10dd78608dc"
      },
      "outputs": [
        {
          "data": {
            "image/png": "[encoded data removed]",
            "text/plain": [
              "<Figure size 432x288 with 1 Axes>"
            ]
          },
          "metadata": {
            "needs_background": "light",
            "tags": []
          },
          "output_type": "display_data"
        }
      ],
      "source": [
        "# Plot training & validation accuracy values\n",
        "plt.plot(lstm_history.history['accuracy'])\n",
        "plt.plot(lstm_history.history['val_accuracy'])\n",
        "plt.title('Model loss')\n",
        "plt.ylabel('Accuracy')\n",
        "plt.xlabel('Epoch')\n",
        "plt.legend(['Train', 'Test'], loc='upper left')\n",
        "plt.show();"
      ]
    },
    {
      "cell_type": "markdown",
      "metadata": {
        "id": "_fgTDw9-PpwB"
      },
      "source": [
        "## Evaluate model with test data and view results"
      ]
    },
    {
      "cell_type": "code",
      "execution_count": null,
      "metadata": {
        "colab": {
          "base_uri": "https://localhost:8080/"
        },
        "id": "OCRor4d9PpwB",
        "outputId": "063b1afa-0c82-4d40-984c-732af5d1f61b"
      },
      "outputs": [
        {
          "name": "stdout",
          "output_type": "stream",
          "text": [
            "WARNING:tensorflow:From <ipython-input-32-4fae17cca12a>:4: Sequential.predict_classes (from tensorflow.python.keras.engine.sequential) is deprecated and will be removed after 2021-01-01.\n",
            "Instructions for updating:\n",
            "Please use instead:* `np.argmax(model.predict(x), axis=-1)`,   if your model does multi-class classification   (e.g. if it uses a `softmax` last-layer activation).* `(model.predict(x) > 0.5).astype(\"int32\")`,   if your model does binary classification   (e.g. if it uses a `sigmoid` last-layer activation).\n",
            "              precision    recall  f1-score   support\n",
            "\n",
            "    Negative       0.81      0.87      0.83     12500\n",
            "    Positive       0.85      0.79      0.82     12500\n",
            "\n",
            "    accuracy                           0.83     25000\n",
            "   macro avg       0.83      0.83      0.83     25000\n",
            "weighted avg       0.83      0.83      0.83     25000\n",
            "\n"
          ]
        }
      ],
      "source": [
        "# Get Model Predictions for test data\n",
        "from sklearn.metrics import classification_report\n",
        "\n",
        "predicted_classes = lstm.predict_classes(x_test)\n",
        "print(classification_report(y_test, predicted_classes, target_names=class_names))"
      ]
    },
    {
      "cell_type": "markdown",
      "metadata": {
        "id": "WDaXDQIKPpwB"
      },
      "source": [
        "## View some incorrect predictions\n",
        "\n",
        "Lets have a look at some of the incorrectly classified reviews. For readability we remove the padding."
      ]
    },
    {
      "cell_type": "code",
      "execution_count": null,
      "metadata": {
        "colab": {
          "base_uri": "https://localhost:8080/"
        },
        "id": "A4TcsBmYPpwB",
        "outputId": "46653053-45da-4e70-8c96-77bf89d5b520"
      },
      "outputs": [
        {
          "name": "stdout",
          "output_type": "stream",
          "text": [
            "Incorrectly classified Test Review [1]\n",
            "Test Review #0: Predicted [Positive] Actual [Negative]\n",
            "Test Review Text: <START> please give this one a miss br br kristy swanson and the rest of the cast rendered terrible performances the show is flat flat flat br br i don't know how michael madison could have allowed this one on his plate he almost seemed to know this wasn't going to work out and his performance was quite lacklustre so all you madison fans give this a miss\n",
            "\n",
            "Incorrectly classified Test Review [2]\n",
            "Test Review #3: Predicted [Positive] Actual [Negative]\n",
            "Test Review Text: the mother in this movie is reckless with her children to the point of neglect i wish i wasn't so angry about her and her actions because i would have otherwise enjoyed the flick what a number she was take my advise and fast forward through everything you see her do until the end also is anyone else getting sick of watching movies that are filmed so dark anymore one can hardly see what is being filmed as an audience we are impossibly involved with the actions on the screen so then why the hell can't we have night vision\n",
            "\n",
            "Incorrectly classified Test Review [3]\n",
            "Test Review #8: Predicted [Positive] Actual [Negative]\n",
            "Test Review Text: have long since become camp this one is filled with dubbed songs anachronistic slang and slapstick it's a truly crop of corn and pretty near intolerable today it was nominated for its imaginative special effects which are almost <UNKNOWN> in this day and age consisting mainly of trick photography the only outstanding positive feature which survives is its beautiful color and clarity sad to say of the many films made in this genre few of them come up to alexander <UNKNOWN> original thief of baghdad almost any other arabian nights film is superior to this one though it's a loser\n",
            "\n"
          ]
        }
      ],
      "source": [
        "predicted_classes_reshaped = np.reshape(predicted_classes, 25000)\n",
        "\n",
        "incorrect = np.nonzero(predicted_classes_reshaped != y_test)[0]\n",
        "\n",
        "# We select the first 10 incorrectly classified reviews\n",
        "for j, incorrect in enumerate(incorrect[0:3]):\n",
        "    \n",
        "    predicted = class_names[predicted_classes_reshaped[incorrect]]\n",
        "    actual = class_names[y_test[incorrect]]\n",
        "    human_readable_review = decode_review(x_test[incorrect])\n",
        "    \n",
        "    print(\"Incorrectly classified Test Review [\"+ str(j+1) +\"]\") \n",
        "    print(\"Test Review #\" + str(incorrect)  + \": Predicted [\"+ predicted + \"] Actual [\"+ actual + \"]\")\n",
        "    print(\"Test Review Text: \" + human_readable_review.replace(\"<PAD> \", \"\"))\n",
        "    print(\"\")"
      ]
    },
    {
      "cell_type": "markdown",
      "metadata": {
        "id": "QAJI9UJqPpwB"
      },
      "source": [
        "## Run your own text against the trained model"
      ]
    },
    {
      "cell_type": "code",
      "execution_count": null,
      "metadata": {
        "colab": {
          "base_uri": "https://localhost:8080/"
        },
        "id": "QY_l7N-lPpwB",
        "outputId": "6903f58a-70a6-40bd-be51-38354fe251fb"
      },
      "outputs": [
        {
          "name": "stdout",
          "output_type": "stream",
          "text": [
            "Review: this movie was not good\n",
            "Raw Prediction: 0.09842379\n",
            "Predicted Class: Negative\n"
          ]
        }
      ],
      "source": [
        "# Write your own review\n",
        "review = \"this movie was not good\"\n",
        "\n",
        "# Encode review (replace word with integers)\n",
        "tmp = []\n",
        "for word in review.split(\" \"):\n",
        "    tmp.append(word_index[word])\n",
        "\n",
        "# Ensure review is 300 words long (by padding or truncating)\n",
        "tmp_padded = sequence.pad_sequences([tmp], maxlen=maxlen) \n",
        "\n",
        "# Run your processed review against the trained model\n",
        "rawprediction = lstm.predict(np.array([tmp_padded][0]))[0][0]\n",
        "prediction = int(round(rawprediction))\n",
        "\n",
        "# Test the model and print the result\n",
        "print(\"Review: \" + review)\n",
        "print(\"Raw Prediction: \" + str(rawprediction))\n",
        "print(\"Predicted Class: \" + class_names[prediction])"
      ]
    },
    {
      "cell_type": "markdown",
      "metadata": {
        "id": "d8ohxwsqPpwB"
      },
      "source": [
        "## Challenge\n",
        "\n",
        "You will be expected to use an Keras LSTM for a classicification task on the *Sprint Challenge*. \n",
        "\n",
        "Reference for some of the code in the section above can be found: https://github.com/markwest1972/LSTM-Example-Google-Colaboratory/blob/master/LSTM_IMDB_Sentiment_Example.ipynb"
      ]
    },
    {
      "cell_type": "markdown",
      "metadata": {
        "id": "7pETWPIe362y"
      },
      "source": [
        "# LSTM Text generation with Keras (Learn)"
      ]
    },
    {
      "cell_type": "markdown",
      "metadata": {
        "id": "c27psrt1PpwB"
      },
      "source": [
        "## Overview\n",
        "\n",
        "What else can we do with LSTMs? Since we're analyzing the *sequence*, we can do more than classify - we can *generate* text. I've pulled some news stories using [newspaper](https://github.com/codelucas/newspaper/).\n",
        "\n",
        "This example is drawn from the Keras [documentation](https://keras.io/examples/lstm_text_generation/)."
      ]
    },
    {
      "cell_type": "code",
      "execution_count": null,
      "metadata": {
        "id": "9dwqEl_VPpwB"
      },
      "outputs": [],
      "source": [
        "from tensorflow.keras.callbacks import LambdaCallback\n",
        "from tensorflow.keras.models import Sequential\n",
        "from tensorflow.keras.layers import Dense, LSTM\n",
        "from tensorflow.keras.optimizers import RMSprop\n",
        "\n",
        "import numpy as np\n",
        "import random\n",
        "import sys\n",
        "import os"
      ]
    },
    {
      "cell_type": "code",
      "execution_count": null,
      "metadata": {
        "id": "TaungR-5PpwB"
      },
      "outputs": [],
      "source": [
        "data_files = os.listdir('./articles')"
      ]
    },
    {
      "cell_type": "code",
      "execution_count": null,
      "metadata": {
        "id": "LwQ7McMdPpwB"
      },
      "outputs": [],
      "source": [
        "# Read in Data\n",
        "\n",
        "data = []\n",
        "\n",
        "for file in data_files:\n",
        "    if file[-3:] == 'txt':\n",
        "        with open(f'./articles/{file}', 'r', encoding='utf-8') as f:\n",
        "            data.append(f.read())"
      ]
    },
    {
      "cell_type": "code",
      "execution_count": null,
      "metadata": {
        "colab": {
          "base_uri": "https://localhost:8080/"
        },
        "id": "a9g7GPvqPpwB",
        "outputId": "e9948240-d3cd-402c-ecc7-97d2dfbcfb94"
      },
      "outputs": [
        {
          "data": {
            "text/plain": [
              "136"
            ]
          },
          "execution_count": 40,
          "metadata": {
            "tags": []
          },
          "output_type": "execute_result"
        }
      ],
      "source": [
        "len(data)"
      ]
    },
    {
      "cell_type": "code",
      "execution_count": null,
      "metadata": {
        "colab": {
          "base_uri": "https://localhost:8080/",
          "height": 141
        },
        "id": "FgQPT-fkPpwB",
        "outputId": "b604ad5e-06ae-40e2-b437-298e3cdd20ad"
      },
      "outputs": [
        {
          "data": {
            "application/vnd.google.colaboratory.intrinsic+json": {
              "type": "string"
            },
            "text/plain": [
              "\"President Trump’s order to withdraw essentially all U.S. forces from northern Syria came after the commander in chief privately agitated for days to bring troops home, according to administration officials — even while the Pentagon was making public assurances that the United States was not abandoning its Kurdish allies in the region.\\n\\nThe officials, granted anonymity to describe internal deliberations, described Trump as “doubling down” and “undeterred,” despite vociferous pushback from congressional Republicans who have been loath to challenge the president apart from a few issues, such as national security.\\n\\nBehind the scenes, Trump has tried to convince advisers and lawmakers that the United States is not to blame for Turkey’s military offensive, which has targeted Kurdish fighters who have aided the U.S. fight against the Islamic State.\\n\\nBut experts — and many Republicans — say otherwise. And even Trump allies say the president needs to do a better job of selling the troop withdrawal to the public, beyond tweets.\\n\\nThe escalating crisis in northern Syria has prompted further criticism from foreign policy heavyweights in Trump’s party, who argue that the president’s strategies abroad send a concerning message to allies and endanger regional partners.\\n\\n“I’ve always looked at the approach the administration takes as very transactional and very short-term in nature,” former senator Bob Corker (R-Tenn.), who chaired the Senate Foreign Relations Committee, said in a phone interview Sunday. “It’s almost seeking headlines for the very next day, but not really thinking through the longer-term impact on our \\xadcountry.”\\n\\nIn a tweet and later in the interview, Corker warned against the decision to withdraw support for Kurdish forces, telling The Post that it was a “blight on our character.” He said, too, that it would only embolden Turkish President Recep Tayyip Erdogan, who has given no indication that he would halt the offensive that began Wednesday despite the threat of sanctions from the U.S. Congress and international condemnation.\\n\\n“To pull the rug out and to do so in such a hasty manner, where there’s been no preparation, nothing has been done to limit the damage to them, and as [former defense secretary Jim] Mattis and others have said, this is going to create additional activities, additional opportunities for ISIS . . . it’s bad all the way around,” said Corker, who has remained relatively quiet since he left office in January.\\n\\nSuch criticisms have been echoed publicly and privately by current Republican elected officials who have been increasingly alarmed by the withdrawal, announced in a late-night White House statement on Oct. 6 and fully fleshed out by Defense Secretary Mark T. Esper on Sunday.\\n\\nTrump has closely watched that kind of public criticism in recent days — complaining frequently about comments from Sen. Lindsey O. Graham (R-S.C.) in particular — but has been encouraged to stay the course by other allies who support a withdrawal, such as Sen. Rand Paul (R-Ky.) and Fox News Channel host Tucker Carlson, according to administration officials.\\n\\nThe president, one senior administration official said, was particularly heartened by a segment from another Fox News host, Lou Dobbs, defending him last week.\\n\\n\\n\\nA U.S. soldier sits atop an armored vehicle in Syria's Hasakeh province near the Turkish border on Oct. 6. (Delil Souleiman/Afp Via Getty Images)\\n\\nFor his part, Graham appeared to be more aligned with Trump on Sunday evening, saying that he planned to work with Democratic and Republican lawmakers on economic sanctions against Turkey.\\n\\n“The outrage in Syria about Turkey continues. The ripple effect I was concerned about has happened at a faster pace than I believed. The administration needs to be far more aggressive,” Graham said in an interview.\\n\\nGraham and Sen. Chris Van Hollen (D-Md.) have drafted legislation that would place sanctions on the U.S. assets of people at the highest levels of the Turkish government, including Erdogan, as well as on any military transactions with Turkey.\\n\\nThe two are circulating their plan among Senate offices.\\n\\nGraham and Sen. Christopher A. Coons (D-Del.) have also asked Senate Majority Leader Mitch McConnell (R-Ky.) and Senate Minority Leader Charles E. Schumer (D-N.Y.) to arrange a briefing from the Pentagon and State Department, as well as intelligence officials, on the withdrawal.\\n\\nAn aide to Schumer deferred to the majority leader’s office, although Schumer has said that he wants Esper; Gen. Mark A. Milley, the chairman of the Joint Chiefs of Staff; and Kenneth F. McKenzie Jr., the head of U.S. Central Command, to appear publicly before senators. A spokesman for McConnell said Sunday that he had no announcements to make. A private briefing could help shape the congressional response, as could a closed-door Senate Armed Services Committee hearing on Syria scheduled for Thursday morning.\\n\\nSome Republican donors and officials worried that Trump’s decision would trap them in an untenable situation and have deleterious effects around the world. Furthermore, the significant intraparty rift is coming at a time when Trump particularly needs Republican support as he faces the threat of impeachment.\\n\\n“Republican senators are going to increasingly resemble a herd of ostriches with their heads in the sand,” said Dan Eberhart, a prominent Republican donor. “They don’t want to break with Trump while simultaneously wanting to disagree with his policy on allowing Turkey to get away with exterminating the Kurds inside Syria.”\\n\\nStill, Trump has resisted the repeated urging from some of his closest allies to intervene in the situation and has become more convinced that bringing troops home is both the right decision and a key political promise to fulfill ahead of the 2020 \\xadelection.\\n\\nThat view has been reinforced by the reaction from supporters. At a campaign rally in Minneapolis last week, the crowd chanted “Bring them home!” as Trump noted that U.S. troops had been in Afghanistan — the longest war in American history — for nearly two decades.\\n\\nDuring deliberations in the past, Trump has repeatedly pushed to remove troops from Syria but has usually been dissuaded by top officials, such as John F. Kelly, his former chief of staff.\\n\\nThe usual argument against removing troops, according to former senior administration officials, would be that doing so would cause widespread deaths and chaos and Trump would be blamed for it.\\n\\n“Normally, convincing him he would be blamed for death and chaos could keep it from happening at least at that moment,” one former senior administration official said.\\n\\nBut current administration officials say many moderating officials like Kelly are gone, and longtime friends say the move is consistent with Trump’s worldview — and that he has long wanted to do this.\\n\\n“When he looks at a conflict, he’ll say, do we have a national interest? What is our national interest?” said Chris Ruddy, a Trump ally. “A secondary thing is the money issue. Why are we spending billions, if not trillions, in places like Afghanistan and the Middle East?”\\n\\nCorker also suggested that the president’s decision was swayed by a circle of current advisers putting “un-thought-out ideas in the president’s head.”\\n\\n“I just have known through my years there that so many people have access to the president,” Corker said, declining to name them. “Typically, you want the people who are giving input to have credentials and have knowledge of the area, but I know that’s not the case necessarily today.”\\n\\nSome Trump allies were urging him to do more. Retired Gen. Jack Keane, who regularly speaks with Trump and has been a candidate for positions in the past, said he should quickly enforce a no-fly zone and warn Turkish officials that there would be retaliation.\\n\\nKeane said international allies had flooded the State Department with concerns about trusting the United States.\\n\\n“All is not lost,” he said. But not doing anything, he said, “sends a message about trust and reliability, something the United States has taken some pride in since World War II, that we can be counted on.”\""
            ]
          },
          "execution_count": 42,
          "metadata": {
            "tags": []
          },
          "output_type": "execute_result"
        }
      ],
      "source": [
        "data[-2]"
      ]
    },
    {
      "cell_type": "code",
      "execution_count": null,
      "metadata": {
        "id": "YPIavuWvPpwB"
      },
      "outputs": [],
      "source": [
        "# Encode Data as Chars\n",
        "\n",
        "# Gather all text \n",
        "# Why? 1. See all possible characters 2. For training / splitting later\n",
        "text = \" \".join(data)\n",
        "\n",
        "# Unique Characters\n",
        "chars = list(set(text))\n",
        "\n",
        "# Lookup Tables\n",
        "char_int = {c:i for i, c in enumerate(chars)} \n",
        "int_char = {i:c for i, c in enumerate(chars)} "
      ]
    },
    {
      "cell_type": "code",
      "execution_count": null,
      "metadata": {
        "colab": {
          "base_uri": "https://localhost:8080/"
        },
        "id": "pqfXeEkZPpwB",
        "outputId": "e3936263-1f9b-41f6-d671-32afe785f1b2"
      },
      "outputs": [
        {
          "data": {
            "text/plain": [
              "121"
            ]
          },
          "execution_count": 44,
          "metadata": {
            "tags": []
          },
          "output_type": "execute_result"
        }
      ],
      "source": [
        "len(chars)"
      ]
    },
    {
      "cell_type": "code",
      "execution_count": null,
      "metadata": {
        "colab": {
          "base_uri": "https://localhost:8080/"
        },
        "id": "gWuAUxnftbAs",
        "outputId": "c456289e-f61e-42c1-8631-fcfaa60cf252"
      },
      "outputs": [
        {
          "data": {
            "text/plain": [
              "['H',\n",
              " '2',\n",
              " 'è',\n",
              " '3',\n",
              " 'é',\n",
              " '⅔',\n",
              " '4',\n",
              " 'ñ',\n",
              " ' ',\n",
              " 'ó',\n",
              " \"'\",\n",
              " '/',\n",
              " ':',\n",
              " 'j',\n",
              " 'd',\n",
              " '\\n',\n",
              " '|',\n",
              " 'p',\n",
              " 'o',\n",
              " '0',\n",
              " 'h',\n",
              " 'Z',\n",
              " 'W',\n",
              " '…',\n",
              " '.',\n",
              " '⭐',\n",
              " '@',\n",
              " 'e',\n",
              " '🤔',\n",
              " 'J',\n",
              " '%',\n",
              " '{',\n",
              " '‘',\n",
              " ')',\n",
              " '’',\n",
              " 'R',\n",
              " 'F',\n",
              " 'ã',\n",
              " 'T',\n",
              " '8',\n",
              " '½',\n",
              " '\\u2069',\n",
              " '1',\n",
              " '?',\n",
              " '+',\n",
              " 'V',\n",
              " '👻',\n",
              " 'r',\n",
              " '⅓',\n",
              " '[',\n",
              " '”',\n",
              " '“',\n",
              " '6',\n",
              " 'E',\n",
              " 'N',\n",
              " 'k',\n",
              " 'z',\n",
              " 'L',\n",
              " 'ﬂ',\n",
              " '_',\n",
              " '●',\n",
              " 's',\n",
              " '—',\n",
              " '―',\n",
              " ';',\n",
              " '©',\n",
              " '\\xad',\n",
              " 'A',\n",
              " 'g',\n",
              " ',',\n",
              " '–',\n",
              " '\\u2066',\n",
              " '7',\n",
              " 'n',\n",
              " 'S',\n",
              " 'M',\n",
              " '\"',\n",
              " 'c',\n",
              " '🗣',\n",
              " 'P',\n",
              " '#',\n",
              " 'D',\n",
              " '$',\n",
              " 'x',\n",
              " 'i',\n",
              " '-',\n",
              " 'm',\n",
              " 'l',\n",
              " 'v',\n",
              " 't',\n",
              " 'O',\n",
              " 'f',\n",
              " '*',\n",
              " '•',\n",
              " '5',\n",
              " ']',\n",
              " 'í',\n",
              " 'Y',\n",
              " 'u',\n",
              " '(',\n",
              " '&',\n",
              " '9',\n",
              " 'X',\n",
              " 'q',\n",
              " 'G',\n",
              " 'C',\n",
              " '·',\n",
              " 'b',\n",
              " 'a',\n",
              " 'U',\n",
              " 'K',\n",
              " 'B',\n",
              " 'ê',\n",
              " 'y',\n",
              " 'á',\n",
              " 'Q',\n",
              " 'ö',\n",
              " '!',\n",
              " 'I',\n",
              " 'w',\n",
              " '×']"
            ]
          },
          "execution_count": 45,
          "metadata": {
            "tags": []
          },
          "output_type": "execute_result"
        }
      ],
      "source": [
        "chars"
      ]
    },
    {
      "cell_type": "code",
      "execution_count": null,
      "metadata": {
        "colab": {
          "base_uri": "https://localhost:8080/"
        },
        "id": "A7d1lvGePpwB",
        "outputId": "cf508a82-069b-418d-bc85-2110ee7ab8a7"
      },
      "outputs": [
        {
          "name": "stdout",
          "output_type": "stream",
          "text": [
            "sequences:  178374\n"
          ]
        }
      ],
      "source": [
        "# Create the sequence data\n",
        "maxlen = 40\n",
        "step = 5\n",
        "\n",
        "encoded = [char_int[c] for c in text]\n",
        "\n",
        "sequences = [] # Each element is 40 chars long\n",
        "next_char = [] # One element for each sequence\n",
        "\n",
        "for i in range(0, len(encoded) - maxlen, step):\n",
        "    \n",
        "    sequences.append(encoded[i : i + maxlen])\n",
        "    next_char.append(encoded[i + maxlen])\n",
        "    \n",
        "print('sequences: ', len(sequences))"
      ]
    },
    {
      "cell_type": "code",
      "execution_count": null,
      "metadata": {
        "colab": {
          "base_uri": "https://localhost:8080/",
          "height": 35
        },
        "id": "pGsNw0p9vkRu",
        "outputId": "01319b00-5c8e-4bc4-c39b-0b9e64625036"
      },
      "outputs": [
        {
          "data": {
            "application/vnd.google.colaboratory.intrinsic+json": {
              "type": "string"
            },
            "text/plain": [
              "'o'"
            ]
          },
          "execution_count": 57,
          "metadata": {
            "tags": []
          },
          "output_type": "execute_result"
        }
      ],
      "source": [
        "chars[18]"
      ]
    },
    {
      "cell_type": "code",
      "execution_count": null,
      "metadata": {
        "colab": {
          "base_uri": "https://localhost:8080/"
        },
        "id": "IQN8DqiFPpwB",
        "outputId": "2af8021a-ee5e-4651-8fbc-a62c5ff6091f"
      },
      "outputs": [
        {
          "data": {
            "text/plain": [
              "[15,\n",
              " 15,\n",
              " 75,\n",
              " 18,\n",
              " 98,\n",
              " 47,\n",
              " 73,\n",
              " 27,\n",
              " 47,\n",
              " 61,\n",
              " 8,\n",
              " 108,\n",
              " 89,\n",
              " 89,\n",
              " 27,\n",
              " 73,\n",
              " 14,\n",
              " 8,\n",
              " 108,\n",
              " 8,\n",
              " 91,\n",
              " 98,\n",
              " 73,\n",
              " 27,\n",
              " 47,\n",
              " 108,\n",
              " 87,\n",
              " 8,\n",
              " 91,\n",
              " 18,\n",
              " 47,\n",
              " 8,\n",
              " 110,\n",
              " 98,\n",
              " 47,\n",
              " 14,\n",
              " 84,\n",
              " 61,\n",
              " 20,\n",
              " 8]"
            ]
          },
          "execution_count": 54,
          "metadata": {
            "tags": []
          },
          "output_type": "execute_result"
        }
      ],
      "source": [
        "sequences[0]"
      ]
    },
    {
      "cell_type": "code",
      "execution_count": null,
      "metadata": {
        "colab": {
          "base_uri": "https://localhost:8080/"
        },
        "id": "CeKqEtEZvt71",
        "outputId": "93b1c2c2-fd8d-4536-d327-0779c88cfa06"
      },
      "outputs": [
        {
          "data": {
            "text/plain": [
              "17"
            ]
          },
          "execution_count": 58,
          "metadata": {
            "tags": []
          },
          "output_type": "execute_result"
        }
      ],
      "source": [
        "next_char[0]"
      ]
    },
    {
      "cell_type": "code",
      "execution_count": null,
      "metadata": {
        "colab": {
          "base_uri": "https://localhost:8080/"
        },
        "id": "cG6kAz8_vwCa",
        "outputId": "6deedca3-35be-4df4-8ef9-0a6ac79280d9"
      },
      "outputs": [
        {
          "data": {
            "text/plain": [
              "['r',\n",
              " 'n',\n",
              " 'e',\n",
              " 'r',\n",
              " 's',\n",
              " ' ',\n",
              " 'a',\n",
              " 't',\n",
              " 't',\n",
              " 'e',\n",
              " 'n',\n",
              " 'd',\n",
              " ' ',\n",
              " 'a',\n",
              " ' ',\n",
              " 'f',\n",
              " 'u',\n",
              " 'n',\n",
              " 'e',\n",
              " 'r',\n",
              " 'a',\n",
              " 'l',\n",
              " ' ',\n",
              " 'f',\n",
              " 'o',\n",
              " 'r',\n",
              " ' ',\n",
              " 'K',\n",
              " 'u',\n",
              " 'r',\n",
              " 'd',\n",
              " 'i',\n",
              " 's',\n",
              " 'h',\n",
              " ' ',\n",
              " 'p',\n",
              " 'o',\n",
              " 'l',\n",
              " 'i',\n",
              " 't']"
            ]
          },
          "execution_count": 61,
          "metadata": {
            "tags": []
          },
          "output_type": "execute_result"
        }
      ],
      "source": [
        "[int_char[i] for i in sequences[1]]"
      ]
    },
    {
      "cell_type": "code",
      "execution_count": null,
      "metadata": {
        "colab": {
          "base_uri": "https://localhost:8080/",
          "height": 35
        },
        "id": "Y2SLcbccv6md",
        "outputId": "259c9154-c798-42df-ba1f-79d33fa4718d"
      },
      "outputs": [
        {
          "data": {
            "application/vnd.google.colaboratory.intrinsic+json": {
              "type": "string"
            },
            "text/plain": [
              "'i'"
            ]
          },
          "execution_count": 62,
          "metadata": {
            "tags": []
          },
          "output_type": "execute_result"
        }
      ],
      "source": [
        "int_char[next_char[1]]"
      ]
    },
    {
      "cell_type": "code",
      "execution_count": null,
      "metadata": {
        "id": "FEtegugtPpwB"
      },
      "outputs": [],
      "source": [
        "# Create x & y\n",
        "x = np.zeros((len(sequences), maxlen, len(chars)), dtype=np.bool)\n",
        "y = np.zeros((len(sequences),len(chars)), dtype=np.bool)\n",
        "\n",
        "for i, sequence in enumerate(sequences):\n",
        "    for t, char in enumerate(sequence):\n",
        "        x[i,t,char] = 1\n",
        "    y[i, next_char[i]] = 1"
      ]
    },
    {
      "cell_type": "code",
      "execution_count": null,
      "metadata": {
        "colab": {
          "base_uri": "https://localhost:8080/"
        },
        "id": "RJLo0oaSPpwB",
        "outputId": "3b15d118-e12e-4e10-9f16-1846859f110d"
      },
      "outputs": [
        {
          "data": {
            "text/plain": [
              "(178374, 40, 121)"
            ]
          },
          "execution_count": 48,
          "metadata": {
            "tags": []
          },
          "output_type": "execute_result"
        }
      ],
      "source": [
        "x.shape"
      ]
    },
    {
      "cell_type": "code",
      "execution_count": null,
      "metadata": {
        "colab": {
          "base_uri": "https://localhost:8080/"
        },
        "id": "x8M-w1D1PpwB",
        "outputId": "e823f925-119e-4fe2-81ac-e84ffa4f8d5f"
      },
      "outputs": [
        {
          "data": {
            "text/plain": [
              "(178374, 121)"
            ]
          },
          "execution_count": 49,
          "metadata": {
            "tags": []
          },
          "output_type": "execute_result"
        }
      ],
      "source": [
        "y.shape"
      ]
    },
    {
      "cell_type": "code",
      "execution_count": null,
      "metadata": {
        "colab": {
          "base_uri": "https://localhost:8080/"
        },
        "id": "h-STjUpawUc6",
        "outputId": "f988df78-82dc-4ba2-df02-edcf5f9e1663"
      },
      "outputs": [
        {
          "data": {
            "text/plain": [
              "array([False, False, False, False, False, False, False, False, False,\n",
              "       False, False, False, False, False, False, False, False,  True,\n",
              "       False, False, False, False, False, False, False, False, False,\n",
              "       False, False, False, False, False, False, False, False, False,\n",
              "       False, False, False, False, False, False, False, False, False,\n",
              "       False, False, False, False, False, False, False, False, False,\n",
              "       False, False, False, False, False, False, False, False, False,\n",
              "       False, False, False, False, False, False, False, False, False,\n",
              "       False, False, False, False, False, False, False, False, False,\n",
              "       False, False, False, False, False, False, False, False, False,\n",
              "       False, False, False, False, False, False, False, False, False,\n",
              "       False, False, False, False, False, False, False, False, False,\n",
              "       False, False, False, False, False, False, False, False, False,\n",
              "       False, False, False, False])"
            ]
          },
          "execution_count": 63,
          "metadata": {
            "tags": []
          },
          "output_type": "execute_result"
        }
      ],
      "source": [
        "y[0]"
      ]
    },
    {
      "cell_type": "code",
      "execution_count": null,
      "metadata": {
        "id": "8IU-LTJVPpwB"
      },
      "outputs": [],
      "source": [
        "# build the model: a single LSTM\n",
        "\n",
        "model = Sequential()\n",
        "model.add(LSTM(128, input_shape=(maxlen, len(chars))))\n",
        "model.add(Dense(len(chars), activation='softmax'))\n",
        "model.compile(loss='categorical_crossentropy', optimizer='adam')"
      ]
    },
    {
      "cell_type": "code",
      "execution_count": null,
      "metadata": {
        "id": "mNS_7G1FPpwB"
      },
      "outputs": [],
      "source": [
        "def sample(preds):\n",
        "    # helper function to sample an index from a probability array\n",
        "    preds = np.asarray(preds).astype('float64')\n",
        "    preds = np.log(preds) / 1\n",
        "    exp_preds = np.exp(preds)\n",
        "    preds = exp_preds / np.sum(exp_preds)\n",
        "    probas = np.random.multinomial(1, preds, 1)\n",
        "    return np.argmax(probas)"
      ]
    },
    {
      "cell_type": "code",
      "execution_count": null,
      "metadata": {
        "id": "4IlNqGf3PpwB"
      },
      "outputs": [],
      "source": [
        "def on_epoch_end(epoch, _):\n",
        "    # Function invoked at end of each epoch. Prints generated text.\n",
        "    \n",
        "    print()\n",
        "    print('----- Generating text after Epoch: %d' % epoch)\n",
        "    \n",
        "    start_index = random.randint(0, len(text) - maxlen - 1) \n",
        "    generated = ''\n",
        "    \n",
        "    sentence = text[start_index: start_index + maxlen]\n",
        "    generated += sentence\n",
        "    \n",
        "    print('----- Generating with seed: \"' + sentence + '\"')\n",
        "    sys.stdout.write(generated)\n",
        "    \n",
        "    for i in range(400):\n",
        "        x_pred = np.zeros((1, maxlen, len(chars)))\n",
        "        for t, char in enumerate(sentence):\n",
        "            x_pred[0, t, char_int[char]] = 1\n",
        "            \n",
        "        preds = model.predict(x_pred, verbose=0)[0]\n",
        "        next_index = sample(preds)\n",
        "        next_char = int_char[next_index]\n",
        "        \n",
        "        sentence = sentence[1:] + next_char\n",
        "        \n",
        "        sys.stdout.write(next_char)\n",
        "        sys.stdout.flush()\n",
        "\n",
        "    print()\n",
        "\n",
        "print_callback = LambdaCallback(on_epoch_end=on_epoch_end)"
      ]
    },
    {
      "cell_type": "code",
      "execution_count": null,
      "metadata": {
        "colab": {
          "base_uri": "https://localhost:8080/"
        },
        "id": "F5Xi4qzePpwB",
        "outputId": "a06adc57-5305-4e36-ccf5-263940e8f1f6"
      },
      "outputs": [
        {
          "name": "stdout",
          "output_type": "stream",
          "text": [
            "Epoch 1/10\n",
            "5565/5575 [============================>.] - ETA: 0s - loss: 1.8804\n",
            "----- Generating text after Epoch: 0\n",
            "----- Generating with seed: \"r-old Robles is back this week, maybe as\"\n",
            "r-old Robles is back this week, maybe ashite” hel may the istaby-croside,” by a home the Aplide woold yeet apsiainsce white laming,” care buich but repressibled frem the crusident of stoped,\n",
            "\n",
            "“It shet bich wirked, aget or kil are dy sinced thaighome in the 2street that schicution, returt othering hiachmersing to be-mont beed borth-thement that it courtherizur Kursins, shothervisials. (the righter bidew accarging an Ruppec,” Ocriveonchat\n",
            "5575/5575 [==============================] - 39s 7ms/step - loss: 1.8804\n",
            "Epoch 2/10\n",
            "5567/5575 [============================>.] - ETA: 0s - loss: 1.8360\n",
            "----- Generating text after Epoch: 1\n",
            "----- Generating with seed: \"E COMPANY'S BOARD: \"Hunter Biden, facing\"\n",
            "E COMPANY'S BOARD: \"Hunter Biden, facing an it the Uariaging Stark twert hincist-uppamed. bring getanizess henee, bening summacint on apthoght. And Thim Them poresing in Fursts rashell a sbowal moyo shepory.\n",
            "\n",
            "“It Fallio can hilm her losing the Wallony” Fidss’ Fridand Fland), week — ow ho goughn and loop@riming on the mastle and here ay oully retimentailed in usting scupesty that is swouse for this teres you haughall]\n",
            "\n",
            "TuwsS part recivin\n",
            "5575/5575 [==============================] - 40s 7ms/step - loss: 1.8362\n",
            "Epoch 3/10\n",
            "5569/5575 [============================>.] - ETA: 0s - loss: 1.7973\n",
            "----- Generating text after Epoch: 2\n",
            "----- Generating with seed: \"le different up here. I don’t know.”\n",
            "\n",
            "AD\"\n",
            "le different up here. I don’t know.”\n",
            "\n",
            "AD\n",
            "\n",
            "The shemes a lasse.\n",
            "\n",
            "Newly cocluses about crade tarbation,.\n",
            "\n",
            "The Worder Sciefr the realon id viewand.\n",
            "\n",
            "AD\n",
            "\n",
            "The games and purbit sugraling for she rallion, who been chall side over periodry. Sour make to recust of 12: to Ma.l Moduto, Southtancin and (6 quectlat Tamist a olems of seco call lawand, a “vicloors, Whice and starred in 13 on Addiew.\n",
            "\n",
            "AD\n",
            "\n",
            "In imwide the dageation loed recosted in mule co\n",
            "5575/5575 [==============================] - 39s 7ms/step - loss: 1.7972\n",
            "Epoch 4/10\n",
            "5567/5575 [============================>.] - ETA: 0s - loss: 1.7620\n",
            "----- Generating text after Epoch: 3\n",
            "----- Generating with seed: \"s tax the bill comes to $106. Before tax\"\n",
            "s tax the bill comes to $106. Before tax cimers consixtersss fix to fight of gozine, you’st- of scacying for the consecty.\n",
            "\n",
            "Hur hero advertion your belights of Trump hrignte bury is dissborce of a devee the even pist the 6ed D2. . But a- Sonizes hove whichers the plove? Accere maje of Thumpite] Twe ary an eventetion of camman — adding in thrim the histes all is barmets facting hears call ecpebed the reporiticamessed the camsuacy. Fears \n",
            "5575/5575 [==============================] - 40s 7ms/step - loss: 1.7620\n",
            "Epoch 5/10\n",
            "5575/5575 [==============================] - ETA: 0s - loss: 1.7344\n",
            "----- Generating text after Epoch: 4\n",
            "----- Generating with seed: \" that tracks such shootings. Of those ki\"\n",
            " that tracks such shootings. Of those kingres over bois maving the use the outchimilations sforbred skreds — whot grebammation but furker, who would statting and opporal part, “Vict News on the punther the the pount. “I more 75,000 freangly in the Worke’s footia Life haps haves so fan stix off crive way held’s criptly is relises.\n",
            "\n",
            "Onering holiction. Helices come. One flaine who alforved to reciallyTorgenes and cline by mil afper has sho\n",
            "5575/5575 [==============================] - 40s 7ms/step - loss: 1.7344\n",
            "Epoch 6/10\n",
            "5574/5575 [============================>.] - ETA: 0s - loss: 1.7073\n",
            "----- Generating text after Epoch: 5\n",
            "----- Generating with seed: \"k earlier on a hit by Baltimore Ravens s\"\n",
            "k earlier on a hit by Baltimore Ravens stapt own lop, you “publyce.\n",
            "\n",
            "What year-old polities medrensed to r/ith.’ in Congrea mays’s tryed to asteal in thought reachateaking if the burdiff to seet, and”\n",
            "\n",
            "It we enotive of the swoocflisembezs.\n",
            "\n",
            "Everer 14, 20189, Rascallowis MaCinbie Phite Connest, Heuph andurrages right. The TVaces, hop arvief’ wy worting sunce a butclipies of its of withmend expecant periation and groian that required enim\n",
            "5575/5575 [==============================] - 39s 7ms/step - loss: 1.7073\n",
            "Epoch 7/10\n",
            "5575/5575 [==============================] - ETA: 0s - loss: 1.6806\n",
            "----- Generating text after Epoch: 6\n",
            "----- Generating with seed: \"ut, Mouritzen said, is that shooting out\"\n",
            "ut, Mouritzen said, is that shooting out bot, parestym/Whicher cauchment is usingey, “I starely evany columed tapory. Abbices, to WP have of your said.\n",
            "\n",
            "Adrate firs execine downers appeatag overnaticles. But a facions, but it cus voted. ho dida’slong of Serviciable and his in and Setulary Serfed off your olleverie the cervice with shended was miver at dampation of the day? We way even more than mere of beunded chaneed in the having the \n",
            "5575/5575 [==============================] - 40s 7ms/step - loss: 1.6806\n",
            "Epoch 8/10\n",
            "5566/5575 [============================>.] - ETA: 0s - loss: 1.6589\n",
            "----- Generating text after Epoch: 7\n",
            "----- Generating with seed: \"f the night. The loss of sleep, she said\"\n",
            "f the night. The loss of sleep, she said for a goinged and createmency, and yound Twat chowney. — webletion afterning Both Hid Boll you any precery macking who Lhows. I come seecige an enold concerrauds in a voylowe milling, ach of the 1995, years a. If.”\n",
            "\n",
            "Otrod. Jusseli-orspreside they wean the Jist, fichtogh and Chaygre had the collem to assugentor fot when exter. One in won allow, Went Howor Dumunicomsed — and requice to respender, h\n",
            "5575/5575 [==============================] - 39s 7ms/step - loss: 1.6590\n",
            "Epoch 9/10\n",
            "5567/5575 [============================>.] - ETA: 0s - loss: 1.6374\n",
            "----- Generating text after Epoch: 8\n",
            "----- Generating with seed: \"rs provided more detail about what he me\"\n",
            "rs provided more detail about what he menbarn after impeachment in the raling beggeally confirify and propedited it thins Kaygreming for resident’s neary clearifity.\n",
            "\n",
            "The fay 1963 can,. President yair. An own fird cheesters in Luff. For the intervition honded for unvessitory. by Bub Homal.\n",
            "\n",
            "Charger choward. As loge and in toict-vincistip other need conturions. Your own. Terman Naxa Trump a posting the new perfered of a party.\n",
            "\n",
            "At eleari\n",
            "5575/5575 [==============================] - 40s 7ms/step - loss: 1.6374\n",
            "Epoch 10/10\n",
            "5569/5575 [============================>.] - ETA: 0s - loss: 1.6170\n",
            "----- Generating text after Epoch: 9\n",
            "----- Generating with seed: \" ambitious people. Katya, 14, demonstrat\"\n",
            " ambitious people. Katya, 14, demonstration, at the services. Ibto have than movie twistivably home in chicting about a pruiling the onotian is rough in the such.\n",
            "\n",
            "To unissment releasion some were to ho undown you kies by herding is hers. He would xitule, Rukin Bravod hakes to got stloy. Itter: Stedration priez a makeand on the stans, with extippofe been an inte about paredexan down’t hav that an idfere coppace, pustly, as a choin agent\n",
            "5575/5575 [==============================] - 39s 7ms/step - loss: 1.6173\n"
          ]
        },
        {
          "data": {
            "text/plain": [
              "<tensorflow.python.keras.callbacks.History at 0x7f88756cd748>"
            ]
          },
          "execution_count": 64,
          "metadata": {
            "tags": []
          },
          "output_type": "execute_result"
        }
      ],
      "source": [
        "# fit the model\n",
        "model.fit(x, y,\n",
        "          batch_size=32,\n",
        "          epochs=10,\n",
        "          callbacks=[print_callback])"
      ]
    },
    {
      "cell_type": "markdown",
      "metadata": {
        "id": "dUqdR_hvPpwB"
      },
      "source": [
        "## Challenge\n",
        "\n",
        "You will be expected to use a Keras LSTM to generate text on today's assignment. "
      ]
    },
    {
      "cell_type": "markdown",
      "metadata": {
        "id": "o1ydmSSGPpwB"
      },
      "source": [
        "# Review\n",
        "\n",
        "- <a href=\"#p1\">Part 1: </a>Describe Neural Networks used for modeling sequences\n",
        "    * Sequence Problems:\n",
        "        - Time Series (like Stock Prices, Weather, etc.)\n",
        "        - Text Classification\n",
        "        - Text Generation\n",
        "        - And many more! :D\n",
        "    * LSTMs are generally preferred over RNNs for most problems\n",
        "    * LSTMs are typically a single hidden layer of LSTM type; although, other architectures are possible.\n",
        "    * Keras has LSTMs/RNN layer types implemented nicely\n",
        "- <a href=\"#p2\">Part 2: </a>Apply a LSTM to a text generation problem using Keras\n",
        "    * Shape of input data is very important\n",
        "    * Can take a while to train\n",
        "    * You can use it to write movie scripts. :P "
      ]
    }
  ],
  "metadata": {
    "accelerator": "GPU",
    "colab": {
      "collapsed_sections": [],
      "name": "LS_DSPT7_431_RNN_and_LSTM_Lecture.ipynb",
      "provenance": []
    },
    "interpreter": {
      "hash": "bd8e00f63139cf9feba2231e80738099b1c7a506243ed7a456c0669dfb5d242f"
    },
    "kernelspec": {
      "display_name": "U4-S3-DL",
      "language": "python",
      "name": "python3"
    },
    "language_info": {
      "codemirror_mode": {
        "name": "ipython",
        "version": 3
      },
      "file_extension": ".py",
      "mimetype": "text/x-python",
      "name": "python",
      "nbconvert_exporter": "python",
      "pygments_lexer": "ipython3",
      "version": "3.8.10"
    }
  },
  "nbformat": 4,
  "nbformat_minor": 0
}
